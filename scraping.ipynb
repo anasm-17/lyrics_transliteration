{
 "cells": [
  {
   "cell_type": "code",
   "execution_count": 171,
   "metadata": {},
   "outputs": [],
   "source": [
    "import re\n",
    "from bs4 import BeautifulSoup\n",
    "from bs4.element import Tag, NavigableString\n",
    "from urllib.request import urlopen\n",
    "import os\n",
    "import requests"
   ]
  },
  {
   "cell_type": "code",
   "execution_count": 154,
   "metadata": {},
   "outputs": [],
   "source": [
    "url2 = \"https://lyricstranslate.com/en/collection/chinese-songs-transliteration-easy-learning\""
   ]
  },
  {
   "cell_type": "code",
   "execution_count": 252,
   "metadata": {},
   "outputs": [
    {
     "name": "stdout",
     "output_type": "stream",
     "text": [
      "{'nǐ céngjīng duì wǒ shuōguò\\nyǒngyuǎn de ài wǒ\\nshuí zhīdào nǐ dehuà er\\ndōu shì zài piàn wǒ\\nnǐ hěnxīn pāoqì wǒ\\nyě bùguǎn wǒ sǐhuó\\nshuí ài wǒ shuí ài wǒ\\nshuí lái ài wǒ\\nbùzhī shuí lái ài wǒ\\xa0xiǎngqǐle xīnlǐ nánguò\\nwǒ duì nǐ bùcuò\\nwǒ de xīn wèile nǐ\\nméiyǒu fàngxiàguò\\npà nǐ lěng pà nǐ rè\\npà nǐ kě pà nǐ è\\nshuí ài wǒ shuí ài wǒ\\nshuí lái ài wǒ\\nbùzhī shuí lái ài wǒ\\xa0nǐ cónglái méiyǒu gěi wǒ\\nyīdiǎn er kuàilè\\nwǒ mìng li zhùdìng\\nyào shòu nǐ de zhémó\\nài shì jiā qíng shì suǒ\\nwǒ piān yuàn shòu zhémó\\nshuí ài wǒ shuí ài wǒ\\nshuí lái ài wǒ\\nbùzhī shuí lái ài wǒ\\xa0xiǎngqǐle xīnlǐ nánguò\\nwǒ duì nǐ bùcuò\\nwǒ de xīn wèile nǐ\\nméiyǒu fàngxiàguò\\npà nǐ lěng pà nǐ rè\\npà nǐ kě pà nǐ è\\nshuí ài wǒ shuí ài wǒ\\nshuí lái ài wǒ\\nbùzhī shuí lái ài wǒ\\xa0nǐ céngjīng duì wǒ shuōguò\\nyǒngyuǎn de ài wǒ\\nshuí zhīdào nǐ dehuà er\\ndōu shì zài piàn wǒ\\nnǐ hěnxīn pāoqì wǒ\\nyě bùguǎn wǒ sǐhuó\\nshuí ài wǒ shuí ài wǒ\\nshuí lái ài wǒ\\nbùzhī shuí lái ài wǒ\\xa0nǐ cónglái méi yǒu gěi wǒ\\nyīdiǎn er kuàilè\\nwǒ mìng li zhùdìng\\nyào shòu nǐ de zhémó\\nài shì jiā qíng shì suǒ\\nwǒ piān yuàn shòu zhémó\\nshuí ài wǒ shuí ài wǒ\\nshuí lái ài wǒ\\nbùzhī shuí lái ài wǒ\\xa0', '有些事我沒說 但我有感覺\\n有些事我沒說 但我知道結果\\n有些事我沒說 但你有感覺\\n有些事我沒說 但你知道結果\\xa0有一天我會 插上翅膀飛\\n有一天我會 張開雙眼看\\n有一天我會 見到我的夢中有誰\\n有一天我會 飛過世界的背\\xa0有些事我沒說 但我有感覺\\n有些事我沒說 但我知道結果\\n有些事我沒說 但你有感覺\\n有些事我沒說 但你知道結果\\xa0有一天我會 插上翅膀飛\\n有一天我會 張開雙眼看\\n有一天我會 見到我的夢中有誰\\n有一天我會 飛過世界的背\\xa0當太陽昇起的那一天 你再看我一遍\\n你將會發現我 所有的改變\\xa0有一天我會 插上翅膀飛\\n有一天我會 張開雙眼看\\n有一天我會 見到我的夢中有誰\\n有一天我會 飛過世界的背\\xa0當太陽昇起的那一天 你再看我一遍\\n你將會發現我 所有的改變\\xa0', '你我像那海鸥 无忧也无愁\\n双双比翼认遨游\\n奔向那彩虹 飞到那天尽头\\n只要有你来为偶 日夜相伴在左右\\n海阔天空永不回头 要把理想来追求\\n不怕那冬天的寒流 夏天风雨来折磨\\xa0你我像那流云 飘飘无间愁\\n逍遥自在认飘游\\n随着那微风 结成了好朋友\\n我愿有你来为偶 时时刻刻在左右\\n看那天空多么辽阔 同把理想来追求\\n不管那阻碍许多 我们依然要奋头\\xa0但愿你能了解我要你爱我\\n因为我有了你 生命才有希望\\n愿你记得我献给你的请柔\\n让我们永远把那爱绸缪\\xa0你我像那流云 飘飘无间愁\\n逍遥自在认飘游\\n随着那微风 结成了好朋友\\n我愿有你来为偶 时时刻刻在左右\\n看那天空多么辽阔 同把理想来追求\\n不管那阻碍许多 我们依然要奋头\\xa0但愿你能了解我要你爱我\\n因为我有了你 生命才有希望\\n愿你记得我献给你的请柔\\n让我们永远把那爱绸缪\\xa0', '春天到來百花紅\\n熱鬧的鑼聲響街頭\\n紅男綠女手挽手\\n恭喜恭喜聲聲送\\xa0快樂的氣氛在眼中\\n可愛的春天喜相逢\\n往事綿綿已成空\\n已成空 往事如夢 \\xa0新的希望在心中\\n朝朝暮暮萬年紅\\n萬事如意好前程\\n一年四季樂融融\\n鴻運當頭樂無窮\\n恭祝大家萬年紅\\xa0不再回想舊時夢\\n舊事的幻夢已成空\\n回憶過去有何用\\n萬事寄託在年頭\\xa0美麗的春天要歌頌\\n春天一去不回頭\\n應該珍惜好年頭\\n何必憂愁 新的年頭\\n說聲大家要珍重\\xa0就像春花萬年紅\\n恭喜恭喜萬年紅\\n一年四季樂融融\\n鴻運當頭樂無窮\\n恭祝大家萬年紅\\xa0', \"chūntiān dàolái bǎihuā hóng\\nrènào de luó shēngxiǎng jiētóu\\nhóngnánlǜnǚ shǒu wǎn shǒu\\ngōngxǐ gōngxǐ shēng shēng sòng\\xa0kuàilè de qìfēn zài yǎnzhōng\\nkě'ài de chūntiān xǐ xiāngféng\\nwǎngshì miánmián yǐ chéng kōng\\nyǐ chéng kōng wǎngshì rú mèng\\xa0xīn de xīwàng zài xīnzhōng\\nzhāo zhāo mù mù wànnián hóng\\nwànshì rúyì hǎo qiánchéng\\nyī nián sìjì lè róngróng\\nhóngyùn dāngtóu lè wúqióng\\ngōng zhù dàjiā wànnián hóng\\xa0bù zài huíxiǎng jiùshí mèng\\njiùshì de huànmèng yǐ chéng kōng\\nhuíyì guòqù yǒu hé yòng\\nwànshì jìtuō zài niántóu\\xa0měilì de chūntiān yào gēsòng\\nchūntiān yī qù bù huítóu\\nyīnggāi zhēnxī hǎo niántóu\\nhébì yōuchóu xīn de niántóu\\nshuō shēng dàjiā yào zhēnzhòng\\xa0jiù xiàng chūnhuā wànnián hóng\\ngōngxǐ gōngxǐ wànnián hóng\\nyī nián sìjì lè róngróng\\nhóngyùn dāngtóu lè wúqióng\\ngōng zhù dàjiā wànnián hóng\\xa0\", 'Wǒ méi wàngjì nǐ wàngjì wǒ\\nLián míngzì nǐ dōu shuō cuò\\nZhèngmíng nǐ yīqiè dōu shì zài piàn wǒ\\nKàn jīntiān nǐ zěnme shuō\\xa0Nǐ shuōguò liǎng tiān lái kàn wǒ\\nYī děng jiùshì yī nián duō\\nSānbǎi liùshíwǔ gè rìzi bù hǎoguò\\nNǐ xīnlǐ gēnběn méiyǒu wǒ\\nBǎ wǒ de àiqíng hái gěi wǒ\\xa0Wǒ méi wàngjì nǐ wàngjì wǒ\\nLián míngzì nǐ dōu shuō cuò\\nZhèngmíng nǐ yīqiè dōu shì zài piàn wǒ\\nKàn jīntiān nǐ zěnme shuō\\xa0Nǐ shuōguò liǎng tiān lái kàn wǒ\\nYī děng jiùshì yī nián duō\\nSānbǎi liùshíwǔ gè rìzi bù hǎoguò\\nNǐ xīnlǐ gēnběn méiyǒu wǒ\\nBǎ wǒ de àiqíng hái gěi wǒ\\xa0Nǐ shuōguò liǎng tiān lái kàn wǒ\\nYī děng jiùshì yī nián duō\\nSānbǎi liùshíwǔ gè rìzi bù hǎoguò\\nNǐ xīnlǐ gēnběn méiyǒu wǒ\\nBǎ wǒ de àiqíng hái gěi wǒ\\xa0', '我没忘记你忘记我\\n连名字你都说错\\n证明你一切都是在骗我\\n看今天你怎么说\\xa0你说过两天来看我\\n一等就是一年多\\n三百六十五个日子不好过\\n你心里根本没有我\\n把我的爱情还给我\\xa0我没忘记你忘记我\\n连名字你都说错\\n证明你一切都是在骗我\\n看今天你怎么说\\xa0你说过两天来看我\\n一等就是一年多\\n三百六十五个日子不好过\\n你心里根本没有我\\n把我的爱情还给我\\xa0你说过两天来看我\\n一等就是一年多\\n三百六十五个日子不好过\\n你心里根本没有我\\n把我的爱情还给我\\xa0', '何も知らずに\\u3000あなたは言ったわ\\nたまにはひとりの\\u3000旅もいいよと\\n雨の空港\\u3000デッキにたたずみ\\n手をふるあなた\\u3000見えなくなるわ\\nどうぞ帰って\\u3000あの人のもとへ\\n私はひとり\\u3000去って行く\\xa0いつも静かに\\u3000あなたの帰りを\\n待ってるやさしい\\u3000人がいるのよ\\n雨に煙った\\u3000ジェットの窓から\\n涙をこらえ\\u3000さよなら言うの\\nどうぞ戻って\\u3000あの人のもとへ\\n私は遠い\\u3000町へ行く\\xa0愛は誰にも\\u3000負けないけれど\\n別れることが\\u3000二人のためよ\\nどうぞ帰って\\u3000あの人のもとへ\\n私はひとり\\u3000去ってゆく\\xa0', \"nǚláng nǐ wèishéme\\ndúzì páihuái zài hǎitān\\nnǚláng nándào bùpà\\ndàhǎi jiù yào qǐ fēnglàng\\na bùshì hǎilàng\\nshì wǒ měilì de yīshang piāodàng\\nzòngrán tiānbiān yǒu hēi wù\\nyě yào xiàng nà hǎi'ōu fēixiáng\\nnǚláng wǒ shì duōme\\nxīwàng wéirào nǐ shēn páng\\nnǚláng hé nǐ qù kàn dàhǎi\\nqù kàn nà fēnglàng\\na bùshì hǎilàng\\nshì wǒ měilì de yīshang piāodàng\\nzòngrán tiānbiān yǒu hēi wù\\nyě yào xiàng nà hǎi'ōu fēixiáng\\nnǚláng wǒ shì duōme\\nxīwàng wéirào nǐ shēn páng\\nnǚláng hé nǐ qù kàn dàhǎi\\nqù kàn nà fēnglàng\\xa0\", 'yǒuyuán xiāngjù\\nyòu hébì cháng xiāng qī\\ndào wúyuán shí fēnlí\\nyòu hébì cháng xiāng yì\\nwǒ xīn li yǒu de\\nzhǐshì yīgè nǐ\\nnǐ xīnlǐ méiyǒu wǒ\\nyòu hébì zài yīqǐ\\xa0jīntiān shuō yào wàngle nǐ\\nmíngtiān què yòu xiǎngqǐ nǐ\\nniàn nǐ, niàn nǐ zài mèng lǐ\\nwèn cǐ qíng hé shí yǐ\\xa0yǒuyuán xiāngjù\\nyòu hébì cháng xiāng qī\\ndào wúyuán shí fēnlí\\nyòu hébì cháng xiāng yì\\nwǒ xīn li yǒu de\\nzhǐshì yīgè nǐ\\nnǐ xīnlǐ méiyǒu wǒ\\nyòu hébì zài yīqǐ\\nX2\\xa0', '有缘相聚\\n又何必常相欺\\n到无缘时分离\\n又何必常相忆\\n我心里有的\\n只是一个你\\n你心里没有我\\n又何必在一起 \\xa0今天说要忘了你\\n明天却又想起你\\n念你，念你在梦里\\n问此情何时已 \\xa0有缘相聚\\n又何必常相欺\\n到无缘时分离\\n又何必常相忆\\n我心里有的\\n只是一个你\\n你心里没有我\\n又何必在一起\\n(×2)\\xa0', 'Nani mo shirazu ni anata wa itta wa\\nTamani wa hitori no tabi mo ī yo\\nTo ame no kūkō dekki ni tatazumi\\nTe o furu anata mienaku naru wa\\nDōzo kaette ano hito no moto e\\nWatashi wa hitori satte iku \\xa0Itsu mo shizuka ni anata no kaeri o\\nMatteru yasashī hito ga iru no yo\\nAme ni kemutta jetto no mado kara\\nNamida o korae sayonara iu no\\nDōzo modotte ano hito no moto e\\nWatashi wa tōi machi e iku \\xa0Ai wa darenimo makenai keredo\\nWakareru koto ga futari no tame yo\\nDōzo kaette ano hito no moto e\\nWatashi wa hitori satte yuku\\xa0', '你曾經對我說過\\n永遠的愛我\\n誰知道你的話兒\\n都是在騙我\\n你狠心拋棄我\\n也不管我死活\\n誰愛我 誰愛我\\n誰來愛我\\n不知誰來愛我\\xa0想起了心裡難過\\n我對你不錯\\n我的心為了你\\n沒有放下過\\n怕你冷 怕你熱\\n怕你渴 怕你餓\\n誰愛我 誰愛我\\n誰來愛我\\n不知誰來愛我\\xa0你從來沒有給我\\n一點兒快樂\\n我命裡注定\\n要受你的折磨\\n愛是枷 情是鎖\\n我偏願 受折磨\\n誰愛我 誰愛我\\n誰來愛我\\n不知誰來愛我\\xa0想起了心裡難過\\n我對你不錯\\n我的心為了你\\n沒有放下過\\n怕你冷 怕你熱\\n怕你渴 怕你餓\\n誰愛我 誰愛我\\n誰來愛我\\n不知誰來愛我\\xa0你曾經對我說過\\n永遠的愛我\\n誰知道你的話兒\\n都是在騙我\\n你狠心拋棄我\\n也不管我死活\\n誰愛我 誰愛我\\n誰來愛我\\n不知誰來愛我\\xa0你從來沒有給我\\n一點兒快樂\\n我命裡注定\\n要受你的折磨\\n愛是枷 情是鎖\\n我偏願 受折磨\\n誰愛我 誰愛我\\n誰來愛我\\n不知誰來愛我\\xa0', '迎着风霜 脚步凄涼\\n浪子在异乡\\n受尽创伤 历尽沧桑\\n想起我的娘\\n娘心如绵 体贴我身\\n带给我温暖\\n我要回到你身旁\\xa0不再放荡 不再流浪\\n我要回家乡\\n重新作人 重新作事\\n安慰我的娘\\n娘心如月 照亮我身\\n使我不彷徨\\n也会使我更坚强\\n(×2)\\xa0', \"Nǐ wǒ xiàng nà hǎi'ōu wú yōu yě wú chóu\\nshuāngshuāng bǐyì rèn áoyóu\\nbēn xiàng nà cǎihóng fēi dào nèitiān jìntóu\\nzhǐyào yǒu nǐ lái wèi ǒu rìyè xiāngbàn zài zuǒyòu\\nhǎikuòtiānkōng yǒng bù huítóu yào bǎ lǐxiǎng lái zhuīqiú\\nbùpà nà dōngtiān de hánliú xiàtiān fēngyǔ lái zhémó\\xa0nǐ wǒ xiàng nà liú yún piāo piāo wújiàn chóu\\nxiāoyáo zìzài rèn piāoyóu\\nsuízhe nà wéifēng jié chéngle hǎo péngyǒu\\nwǒ yuàn yǒu nǐ lái wèi ǒu shí shíkè kè zài zuǒyòu\\nkàn nèi tiānkōng duōme liáokuò tóng bǎ lǐxiǎng lái zhuīqiú\\nbùguǎn nà zǔ'ài xǔduō wǒmen yīrán yào fèn tóu\\xa0dàn yuàn nǐ néng liǎojiě wǒ yào nǐ ài wǒ\\nyīnwèi wǒ yǒule nǐ shēngmìng cái yǒu xīwàng\\nyuàn nǐ jìde wǒ xiàn gěi nǐ de qǐng róu\\nràng wǒmen yǒngyuǎn bǎ nà ài chóumóu\\xa0nǐ wǒ xiàng nà liú yún piāo piāo wújiàn chóu\\nxiāoyáo zìzài rèn piāoyóu\\nsuízhe nà wéifēng jié chéngle hǎo péngyǒu\\nwǒ yuàn yǒu nǐ lái wèi ǒu shí shíkè kè zài zuǒyòu\\nkàn nèi tiānkōng duōme liáokuò tóng bǎ lǐxiǎng lái zhuīqiú\\nbùguǎn nà zǔ'ài xǔduō wǒmen yīrán yào fèn tóu\\xa0dàn yuàn nǐ néng liǎojiě wǒ yào nǐ ài wǒ\\nyīnwèi wǒ yǒule nǐ shēngmìng cái yǒu xīwàng\\nyuàn nǐ jìde wǒ xiàn gěi nǐ de qǐng róu\\nràng wǒmen yǒngyuǎn bǎ nà ài chóumóu\\xa0\", 'Yǒuxiē shì wǒ méi shuō dàn wǒ yǒu gǎnjué\\nYǒuxiē shì wǒ méi shuō dàn wǒ zhīdào jiéguǒ\\nYǒuxiē shì wǒ méi shuō dàn nǐ yǒu gǎnjué\\nYǒuxiē shì wǒ méi shuō dàn nǐ zhīdào jiéguǒ\\xa0Yǒu yītiān wǒ huì chā shàng chìbǎng fēi\\nYǒu yītiān wǒ huì zhāngkāishuāng yǎnkàn\\nYǒu yītiān wǒ huìjiàn dào wǒ de mèngzhōng yǒu shuí\\nYǒu yītiān wǒ huì fēiguò shìjiè de bèi\\xa0Yǒuxiē shì wǒ méi shuō dàn wǒ yǒu gǎnjué\\nYǒuxiē shì wǒ méi shuō dàn wǒ zhīdào jiéguǒ\\nYǒuxiē shì wǒ méi shuō dàn nǐ yǒu gǎnjué\\nYǒuxiē shì wǒ méi shuō dàn nǐ zhīdào jiéguǒ\\xa0Yǒu yītiān wǒ huì chā shàng chìbǎng fēi\\nYǒu yītiān wǒ huì zhāngkāishuāng yǎnkàn\\nYǒu yītiān wǒ huìjiàn dào wǒ de mèngzhōng yǒu shuí\\nYǒu yītiān wǒ huì fēiguò shìjiè de bèi\\xa0Dāng tàiyáng shēng qǐ dì nà yītiān nǐ zài kàn wǒ yībiàn\\nNǐ jiāng huì fāxiàn wǒ suǒyǒu de gǎibiàn\\xa0Yǒu yītiān wǒ huì chā shàng chìbǎng fēi\\nYǒu yītiān wǒ huì zhāngkāishuāng yǎnkàn\\nYǒu yītiān wǒ huìjiàn dào wǒ de mèngzhōng yǒu shuí\\nYǒu yītiān wǒ huì fēiguò shìjiè de bèi\\xa0Dāng tàiyáng shēng qǐ dì nà yītiān nǐ zài kàn wǒ yībiàn\\nNǐ jiāng huì fāxiàn wǒ suǒyǒu de gǎibiàn\\xa0', 'wú yán dú shàng xī lóu,\\nyuè rú gōu,\\njìmò wútóng shēn yuàn suǒ qīngqiū.\\n*Jiǎn bùduàn,\\nlǐ hái luàn,\\nshì líchóu,\\nbié shì yībān zīwèi zài xīntóu.\\n(X2),*,(x1)\\xa0', 'yíngzhe fēngshuāng jiǎobù qī liáng\\nlàngzǐ zài yìxiāng\\nshòu jǐn chuāngshāng lìjìn cāngsāng\\nxiǎngqǐ wǒ de niáng\\nniáng xīn rú mián tǐtiē wǒ shēn\\ndài gěi wǒ wēnnuǎn\\nwǒ yào huí dào nǐ shēn páng\\xa0bù zài fàngdàng bù zài liúlàng\\nwǒ yào huí jiāxiāng\\nchóngxīn zuò rén chóngxīn zuò shì\\nānwèi wǒ de niáng\\nniáng xīn rúyuè zhào liàng wǒ shēn\\nshǐ wǒ bù fǎnghuáng\\nyě huì shǐ wǒ gèng jiānqiáng\\nx2\\xa0', '无言独上西楼，\\n月如钩，\\n寂寞梧桐深院锁清秋。\\xa0*剪不断，\\n理还乱，\\n是离愁，\\n别是一般滋味在心头。\\n(×2),*,(×1)\\xa0'}\n"
     ]
    }
   ],
   "source": [
    "f = requests.get(url).text\n",
    "soup= BeautifulSoup(f)\n",
    "internal_links =[]\n",
    "links=set()\n",
    "for link in soup.find_all(\"a\",href = True):\n",
    "    if link[\"href\"].startswith(\"/en/\") and link[\"href\"].endswith(\".html\") and len(link[\"href\"]) > 40 and not re.match(\"(.+lyrics.+)|(.+languages.+)\",link[\"href\"]) : \n",
    "        internal_links.append(link[\"href\"])\n",
    "        \n",
    "for il in internal_links:\n",
    "    f2 = requests.get(\"https://lyricstranslate.com\"+il).text\n",
    "    soup= BeautifulSoup(f2)\n",
    "    for node in soup.find_all(class_=\"ltf\"):            \n",
    "        links.add(node.text)\n",
    "print(links)\n",
    "#     if (node[\"href\"].startswith(\"https://masterdatascience.ubc.ca\")) or (node[\"href\"].startswith(\"/\")):\n",
    "#         internal_links.add(node[\"href\"].split(\"#\")[0]) \n",
    "# print(internal_links)"
   ]
  },
  {
   "cell_type": "code",
   "execution_count": null,
   "metadata": {},
   "outputs": [],
   "source": []
  }
 ],
 "metadata": {
  "kernelspec": {
   "display_name": "Python 3",
   "language": "python",
   "name": "python3"
  },
  "language_info": {
   "codemirror_mode": {
    "name": "ipython",
    "version": 3
   },
   "file_extension": ".py",
   "mimetype": "text/x-python",
   "name": "python",
   "nbconvert_exporter": "python",
   "pygments_lexer": "ipython3",
   "version": "3.7.3"
  }
 },
 "nbformat": 4,
 "nbformat_minor": 4
}
