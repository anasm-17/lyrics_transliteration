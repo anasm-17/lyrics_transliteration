{
 "cells": [
  {
   "cell_type": "code",
   "execution_count": 1,
   "metadata": {},
   "outputs": [],
   "source": [
    "from bs4 import BeautifulSoup\n",
    "import requests\n",
    "import pandas as pd"
   ]
  },
  {
   "cell_type": "code",
   "execution_count": 2,
   "metadata": {},
   "outputs": [],
   "source": [
    "url2 = 'https://lyricstranslate.com/en/collection/chinese-songs-transliteration-easy-learning'\n",
    "html_content2 = requests.get(url2).text\n",
    "soup2 = BeautifulSoup(html_content2)"
   ]
  },
  {
   "cell_type": "code",
   "execution_count": 3,
   "metadata": {},
   "outputs": [],
   "source": [
    "links_list = []\n",
    "for i in soup2.find_all(\"span\", class_=\"collection-title\"):\n",
    "    for c in i.children:\n",
    "        links_list.append(c['href'])"
   ]
  },
  {
   "cell_type": "code",
   "execution_count": 4,
   "metadata": {},
   "outputs": [],
   "source": [
    "zh = []\n",
    "tran = []\n",
    "for link in links_list:\n",
    "    html_content = requests.get(\"https://lyricstranslate.com\" + link).text\n",
    "    soup = BeautifulSoup(html_content)\n",
    "    zh_tran = []\n",
    "    for i in soup.find_all(class_=\"ltf\"):\n",
    "        zh_tran.append(i.get_text())\n",
    "    if len(zh_tran) == 2:\n",
    "        zh.extend(zh_tran[0].split(\"\\n\"))\n",
    "        tran.extend(zh_tran[1].split(\"\\n\"))"
   ]
  },
  {
   "cell_type": "code",
   "execution_count": 13,
   "metadata": {},
   "outputs": [
    {
     "data": {
      "text/plain": [
       "1129"
      ]
     },
     "execution_count": 13,
     "metadata": {},
     "output_type": "execute_result"
    }
   ],
   "source": [
    "len(zh)"
   ]
  },
  {
   "cell_type": "code",
   "execution_count": 14,
   "metadata": {},
   "outputs": [],
   "source": [
    "tran = tran[:1129]"
   ]
  },
  {
   "cell_type": "code",
   "execution_count": 18,
   "metadata": {},
   "outputs": [
    {
     "data": {
      "text/html": [
       "<div>\n",
       "<style scoped>\n",
       "    .dataframe tbody tr th:only-of-type {\n",
       "        vertical-align: middle;\n",
       "    }\n",
       "\n",
       "    .dataframe tbody tr th {\n",
       "        vertical-align: top;\n",
       "    }\n",
       "\n",
       "    .dataframe thead th {\n",
       "        text-align: right;\n",
       "    }\n",
       "</style>\n",
       "<table border=\"1\" class=\"dataframe\">\n",
       "  <thead>\n",
       "    <tr style=\"text-align: right;\">\n",
       "      <th></th>\n",
       "      <th>ZH</th>\n",
       "      <th>EN</th>\n",
       "    </tr>\n",
       "  </thead>\n",
       "  <tbody>\n",
       "    <tr>\n",
       "      <th>0</th>\n",
       "      <td>你曾經對我說過</td>\n",
       "      <td>nǐ céngjīng duì wǒ shuōguò</td>\n",
       "    </tr>\n",
       "    <tr>\n",
       "      <th>1</th>\n",
       "      <td>永遠的愛我</td>\n",
       "      <td>yǒngyuǎn de ài wǒ</td>\n",
       "    </tr>\n",
       "    <tr>\n",
       "      <th>2</th>\n",
       "      <td>誰知道你的話兒</td>\n",
       "      <td>shuí zhīdào nǐ dehuà er</td>\n",
       "    </tr>\n",
       "    <tr>\n",
       "      <th>3</th>\n",
       "      <td>都是在騙我</td>\n",
       "      <td>dōu shì zài piàn wǒ</td>\n",
       "    </tr>\n",
       "    <tr>\n",
       "      <th>4</th>\n",
       "      <td>你狠心拋棄我</td>\n",
       "      <td>nǐ hěnxīn pāoqì wǒ</td>\n",
       "    </tr>\n",
       "    <tr>\n",
       "      <th>...</th>\n",
       "      <td>...</td>\n",
       "      <td>...</td>\n",
       "    </tr>\n",
       "    <tr>\n",
       "      <th>125</th>\n",
       "      <td>寂寞梧桐深院锁清秋。 *剪不断，</td>\n",
       "      <td>jìmò wútóng shēn yuàn suǒ qīngqiū.</td>\n",
       "    </tr>\n",
       "    <tr>\n",
       "      <th>126</th>\n",
       "      <td>理还乱，</td>\n",
       "      <td>*Jiǎn bùduàn,</td>\n",
       "    </tr>\n",
       "    <tr>\n",
       "      <th>127</th>\n",
       "      <td>是离愁，</td>\n",
       "      <td>lǐ hái luàn,</td>\n",
       "    </tr>\n",
       "    <tr>\n",
       "      <th>128</th>\n",
       "      <td>别是一般滋味在心头。</td>\n",
       "      <td>shì líchóu,</td>\n",
       "    </tr>\n",
       "    <tr>\n",
       "      <th>129</th>\n",
       "      <td>(×2),*,(×1)</td>\n",
       "      <td>bié shì yībān zīwèi zài xīntóu.</td>\n",
       "    </tr>\n",
       "  </tbody>\n",
       "</table>\n",
       "<p>130 rows × 2 columns</p>\n",
       "</div>"
      ],
      "text/plain": [
       "                   ZH                                  EN\n",
       "0             你曾經對我說過          nǐ céngjīng duì wǒ shuōguò\n",
       "1               永遠的愛我                   yǒngyuǎn de ài wǒ\n",
       "2             誰知道你的話兒             shuí zhīdào nǐ dehuà er\n",
       "3               都是在騙我                 dōu shì zài piàn wǒ\n",
       "4              你狠心拋棄我                  nǐ hěnxīn pāoqì wǒ\n",
       "..                ...                                 ...\n",
       "125  寂寞梧桐深院锁清秋。 *剪不断，  jìmò wútóng shēn yuàn suǒ qīngqiū.\n",
       "126              理还乱，                       *Jiǎn bùduàn,\n",
       "127              是离愁，                        lǐ hái luàn,\n",
       "128        别是一般滋味在心头。                         shì líchóu,\n",
       "129      (×2),*,(×1)      bié shì yībān zīwèi zài xīntóu.\n",
       "\n",
       "[130 rows x 2 columns]"
      ]
     },
     "execution_count": 18,
     "metadata": {},
     "output_type": "execute_result"
    }
   ],
   "source": [
    "pd.DataFrame({\"ZH\":zh, \"EN\": tran})[:130]"
   ]
  },
  {
   "cell_type": "code",
   "execution_count": null,
   "metadata": {},
   "outputs": [],
   "source": []
  }
 ],
 "metadata": {
  "kernelspec": {
   "display_name": "Python 3",
   "language": "python",
   "name": "python3"
  },
  "language_info": {
   "codemirror_mode": {
    "name": "ipython",
    "version": 3
   },
   "file_extension": ".py",
   "mimetype": "text/x-python",
   "name": "python",
   "nbconvert_exporter": "python",
   "pygments_lexer": "ipython3",
   "version": "3.7.4"
  }
 },
 "nbformat": 4,
 "nbformat_minor": 4
}
