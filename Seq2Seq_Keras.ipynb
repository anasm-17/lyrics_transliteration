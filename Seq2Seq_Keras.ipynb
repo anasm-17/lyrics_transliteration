{
 "cells": [
  {
   "cell_type": "markdown",
   "metadata": {},
   "source": [
    "# Code was taken from [Keras-Team](https://github.com/keras-team/keras/blob/master/examples/lstm_seq2seq.py) and applied to chinese to english"
   ]
  },
  {
   "cell_type": "code",
   "execution_count": 3,
   "metadata": {},
   "outputs": [],
   "source": [
    "import tensorflow as tf\n",
    "from tensorflow.keras.models import Model\n",
    "from tensorflow.keras.layers import Input, LSTM, Dense\n",
    "import numpy as np"
   ]
  },
  {
   "cell_type": "code",
   "execution_count": 4,
   "metadata": {},
   "outputs": [],
   "source": [
    "batch_size = 64 # training batch size\n",
    "epochs = 100 # no. of epochs\n",
    "latent_dim = 256 # Latent dim of encoding space\n",
    "num_samples = 10_000 # no of training samples\n",
    "data_path = \"cmn.txt\" # data"
   ]
  },
  {
   "cell_type": "markdown",
   "metadata": {},
   "source": [
    "## Vectorize data"
   ]
  },
  {
   "cell_type": "code",
   "execution_count": 18,
   "metadata": {},
   "outputs": [],
   "source": [
    "input_texts = []\n",
    "target_texts = []\n",
    "input_characters = set()\n",
    "target_characters = set()"
   ]
  },
  {
   "cell_type": "code",
   "execution_count": 19,
   "metadata": {},
   "outputs": [],
   "source": [
    "with open(data_path, 'r', encoding='utf-8') as f:\n",
    "    lines = f.read().split('\\n')\n",
    "for line in lines[: min(num_samples, len(lines) - 1)]:\n",
    "    target_text, input_text, _ = line.split('\\t')\n",
    "    # tab as start, new line as end\n",
    "    target_text = '\\t' + target_text + '\\n'\n",
    "    input_texts.append(input_text)\n",
    "    target_texts.append(target_text)\n",
    "    for char in input_text:\n",
    "        if char not in input_characters:\n",
    "            input_characters.add(char)\n",
    "    for char in target_text:\n",
    "        if char not in target_characters:\n",
    "            target_characters.add(char)"
   ]
  },
  {
   "cell_type": "code",
   "execution_count": 20,
   "metadata": {},
   "outputs": [],
   "source": [
    "input_characters = sorted(list(input_characters))\n",
    "target_characters = sorted(list(target_characters))"
   ]
  },
  {
   "cell_type": "code",
   "execution_count": 23,
   "metadata": {},
   "outputs": [],
   "source": [
    "num_encoder_tokens = len(input_characters)\n",
    "num_decoder_tokens = len(target_characters)\n",
    "max_encoder_seq_length = max([len(txt) for txt in input_texts])\n",
    "max_decoder_seq_length = max([len(txt) for txt in target_texts])"
   ]
  },
  {
   "cell_type": "code",
   "execution_count": 24,
   "metadata": {},
   "outputs": [
    {
     "name": "stdout",
     "output_type": "stream",
     "text": [
      "Number of samples: 10000\n",
      "Number of unique input tokens: 2575\n",
      "Number of unique output tokens: 75\n",
      "Max sequence length for inputs: 20\n",
      "Max sequence length for outputs: 32\n"
     ]
    }
   ],
   "source": [
    "print('Number of samples:', len(input_texts))\n",
    "print('Number of unique input tokens:', num_encoder_tokens)\n",
    "print('Number of unique output tokens:', num_decoder_tokens)\n",
    "print('Max sequence length for inputs:', max_encoder_seq_length)\n",
    "print('Max sequence length for outputs:', max_decoder_seq_length)"
   ]
  },
  {
   "cell_type": "code",
   "execution_count": 25,
   "metadata": {},
   "outputs": [],
   "source": [
    "input_token_index = dict(\n",
    "    [(char, i) for i, char in enumerate(input_characters)])\n",
    "target_token_index = dict(\n",
    "    [(char, i) for i, char in enumerate(target_characters)])"
   ]
  },
  {
   "cell_type": "code",
   "execution_count": 61,
   "metadata": {},
   "outputs": [],
   "source": [
    "encoder_input_data = np.zeros(\n",
    "    (len(input_texts), max_encoder_seq_length, num_encoder_tokens),\n",
    "    dtype='float32')\n",
    "decoder_input_data = np.zeros(\n",
    "    (len(input_texts), max_decoder_seq_length, num_decoder_tokens),\n",
    "    dtype='float32')\n",
    "decoder_target_data = np.zeros(\n",
    "    (len(target_texts), max_decoder_seq_length, num_decoder_tokens),\n",
    "    dtype='float32')"
   ]
  },
  {
   "cell_type": "code",
   "execution_count": 62,
   "metadata": {},
   "outputs": [],
   "source": [
    "for i, (input_text, target_text) in enumerate(zip(input_texts, target_texts)):\n",
    "    for t, char in enumerate(input_text):\n",
    "        encoder_input_data[i, t, input_token_index[char]] = 1.\n",
    "    encoder_input_data[i, t + 1:, input_token_index[' ']] = 1.\n",
    "    \n",
    "    for t, char in enumerate(target_text):\n",
    "        # offset by one, \"teacher forcing\"\n",
    "        decoder_input_data[i, t, target_token_index[char]] = 1.\n",
    "        if t>0:\n",
    "            # decoder_target_data ahead of decoder_input_data by one timestamp\n",
    "            decoder_target_data[i, t - 1, target_token_index[char]] = 1.\n",
    "            \n",
    "    decoder_input_data[i, t + 1:, target_token_index[' ']] = 1.\n",
    "    decoder_target_data[i, t:, target_token_index[' ']] = 1."
   ]
  },
  {
   "cell_type": "markdown",
   "metadata": {},
   "source": [
    "####  process input sequence"
   ]
  },
  {
   "cell_type": "code",
   "execution_count": 64,
   "metadata": {},
   "outputs": [],
   "source": [
    "encoder_inputs = Input(shape=(None, num_encoder_tokens))\n",
    "encoder = LSTM(latent_dim, return_state=True)\n",
    "encoder_outputs, state_h, state_c = encoder(encoder_inputs)\n",
    "# discard `encoder_outputs` keep states\n",
    "encoder_states = [state_h, state_c]"
   ]
  },
  {
   "cell_type": "markdown",
   "metadata": {},
   "source": [
    "#### setup the decoder, using `encoder_states` as initial state"
   ]
  },
  {
   "cell_type": "code",
   "execution_count": 66,
   "metadata": {},
   "outputs": [],
   "source": [
    "decoder_inputs = Input(shape=(None, num_decoder_tokens))\n",
    "# setup decoder to return full output seqs,\n",
    "# and return internal states as well. they do not use\n",
    "# return states in training but use them in inference.\n",
    "decoder_lstm = LSTM(latent_dim, return_sequences=True, return_state=True)\n",
    "decoder_outputs, _, _ = decoder_lstm(decoder_inputs,\n",
    "                                    initial_state=encoder_states)\n",
    "decoder_dense = Dense(num_decoder_tokens, activation='softmax')\n",
    "decoder_outputs = decoder_dense(decoder_outputs)"
   ]
  },
  {
   "cell_type": "markdown",
   "metadata": {},
   "source": [
    "## Define the model"
   ]
  },
  {
   "cell_type": "code",
   "execution_count": 68,
   "metadata": {},
   "outputs": [],
   "source": [
    "model = Model([encoder_inputs, decoder_inputs], decoder_outputs)"
   ]
  },
  {
   "cell_type": "markdown",
   "metadata": {},
   "source": [
    "#### Train"
   ]
  },
  {
   "cell_type": "code",
   "execution_count": 69,
   "metadata": {},
   "outputs": [
    {
     "name": "stdout",
     "output_type": "stream",
     "text": [
      "Train on 8000 samples, validate on 2000 samples\n",
      "Epoch 1/100\n",
      "8000/8000 [==============================] - 12s 2ms/sample - loss: 2.2591 - accuracy: 0.4285 - val_loss: 2.7207 - val_accuracy: 0.2671\n",
      "Epoch 2/100\n",
      "8000/8000 [==============================] - 4s 517us/sample - loss: 1.8186 - accuracy: 0.5012 - val_loss: 2.2440 - val_accuracy: 0.3684\n",
      "Epoch 3/100\n",
      "8000/8000 [==============================] - 4s 513us/sample - loss: 1.5442 - accuracy: 0.5617 - val_loss: 2.0344 - val_accuracy: 0.4112\n",
      "Epoch 4/100\n",
      "8000/8000 [==============================] - 4s 507us/sample - loss: 1.4158 - accuracy: 0.5872 - val_loss: 1.9722 - val_accuracy: 0.4233\n",
      "Epoch 5/100\n",
      "8000/8000 [==============================] - 4s 504us/sample - loss: 1.3348 - accuracy: 0.6070 - val_loss: 1.8815 - val_accuracy: 0.4450\n",
      "Epoch 6/100\n",
      "8000/8000 [==============================] - 4s 516us/sample - loss: 1.2660 - accuracy: 0.6260 - val_loss: 1.7863 - val_accuracy: 0.4685\n",
      "Epoch 7/100\n",
      "8000/8000 [==============================] - 4s 505us/sample - loss: 1.2036 - accuracy: 0.6439 - val_loss: 1.7445 - val_accuracy: 0.4830\n",
      "Epoch 8/100\n",
      "8000/8000 [==============================] - 4s 509us/sample - loss: 1.1468 - accuracy: 0.6613 - val_loss: 1.6863 - val_accuracy: 0.5013\n",
      "Epoch 9/100\n",
      "8000/8000 [==============================] - 4s 507us/sample - loss: 1.0966 - accuracy: 0.6749 - val_loss: 1.6259 - val_accuracy: 0.5209\n",
      "Epoch 10/100\n",
      "8000/8000 [==============================] - 4s 506us/sample - loss: 1.0532 - accuracy: 0.6878 - val_loss: 1.5573 - val_accuracy: 0.5377\n",
      "Epoch 11/100\n",
      "8000/8000 [==============================] - 4s 511us/sample - loss: 1.0158 - accuracy: 0.6984 - val_loss: 1.4894 - val_accuracy: 0.5600\n",
      "Epoch 12/100\n",
      "8000/8000 [==============================] - 4s 509us/sample - loss: 0.9811 - accuracy: 0.7085 - val_loss: 1.4987 - val_accuracy: 0.5540\n",
      "Epoch 13/100\n",
      "8000/8000 [==============================] - 4s 509us/sample - loss: 0.9498 - accuracy: 0.7180 - val_loss: 1.4703 - val_accuracy: 0.5635\n",
      "Epoch 14/100\n",
      "8000/8000 [==============================] - 4s 512us/sample - loss: 0.9208 - accuracy: 0.7262 - val_loss: 1.4802 - val_accuracy: 0.5602\n",
      "Epoch 15/100\n",
      "8000/8000 [==============================] - 4s 515us/sample - loss: 0.8934 - accuracy: 0.7341 - val_loss: 1.4594 - val_accuracy: 0.5669\n",
      "Epoch 16/100\n",
      "8000/8000 [==============================] - 4s 507us/sample - loss: 0.8674 - accuracy: 0.7416 - val_loss: 1.4146 - val_accuracy: 0.5799\n",
      "Epoch 17/100\n",
      "8000/8000 [==============================] - 4s 512us/sample - loss: 0.8432 - accuracy: 0.7494 - val_loss: 1.3958 - val_accuracy: 0.5885\n",
      "Epoch 18/100\n",
      "8000/8000 [==============================] - 4s 509us/sample - loss: 0.8191 - accuracy: 0.7563 - val_loss: 1.3797 - val_accuracy: 0.5918\n",
      "Epoch 19/100\n",
      "8000/8000 [==============================] - 4s 518us/sample - loss: 0.7953 - accuracy: 0.7626 - val_loss: 1.3763 - val_accuracy: 0.5949\n",
      "Epoch 20/100\n",
      "8000/8000 [==============================] - 4s 512us/sample - loss: 0.7740 - accuracy: 0.7691 - val_loss: 1.4144 - val_accuracy: 0.5875\n",
      "Epoch 21/100\n",
      "8000/8000 [==============================] - 4s 503us/sample - loss: 0.7528 - accuracy: 0.7757 - val_loss: 1.3692 - val_accuracy: 0.6009\n",
      "Epoch 22/100\n",
      "8000/8000 [==============================] - 4s 496us/sample - loss: 0.7324 - accuracy: 0.7814 - val_loss: 1.3575 - val_accuracy: 0.6056\n",
      "Epoch 23/100\n",
      "8000/8000 [==============================] - 4s 493us/sample - loss: 0.7118 - accuracy: 0.7875 - val_loss: 1.3937 - val_accuracy: 0.5960\n",
      "Epoch 24/100\n",
      "8000/8000 [==============================] - 4s 491us/sample - loss: 0.6933 - accuracy: 0.7933 - val_loss: 1.3314 - val_accuracy: 0.6152\n",
      "Epoch 25/100\n",
      "8000/8000 [==============================] - 4s 491us/sample - loss: 0.6743 - accuracy: 0.7992 - val_loss: 1.3683 - val_accuracy: 0.6076\n",
      "Epoch 26/100\n",
      "8000/8000 [==============================] - 4s 491us/sample - loss: 0.6564 - accuracy: 0.8042 - val_loss: 1.3853 - val_accuracy: 0.6055\n",
      "Epoch 27/100\n",
      "8000/8000 [==============================] - 4s 511us/sample - loss: 0.6375 - accuracy: 0.8092 - val_loss: 1.3715 - val_accuracy: 0.6084\n",
      "Epoch 28/100\n",
      "8000/8000 [==============================] - 4s 512us/sample - loss: 0.6215 - accuracy: 0.8148 - val_loss: 1.4077 - val_accuracy: 0.6029\n",
      "Epoch 29/100\n",
      "8000/8000 [==============================] - 4s 502us/sample - loss: 0.6041 - accuracy: 0.8194 - val_loss: 1.4338 - val_accuracy: 0.6002\n",
      "Epoch 30/100\n",
      "8000/8000 [==============================] - 5s 577us/sample - loss: 0.5881 - accuracy: 0.8238 - val_loss: 1.4101 - val_accuracy: 0.6048\n",
      "Epoch 31/100\n",
      "8000/8000 [==============================] - 4s 517us/sample - loss: 0.5724 - accuracy: 0.8284 - val_loss: 1.4321 - val_accuracy: 0.6017\n",
      "Epoch 32/100\n",
      "8000/8000 [==============================] - 4s 550us/sample - loss: 0.5563 - accuracy: 0.8330 - val_loss: 1.3991 - val_accuracy: 0.6130\n",
      "Epoch 33/100\n",
      "8000/8000 [==============================] - 5s 601us/sample - loss: 0.5413 - accuracy: 0.8381 - val_loss: 1.4577 - val_accuracy: 0.6007\n",
      "Epoch 34/100\n",
      "8000/8000 [==============================] - 4s 532us/sample - loss: 0.5256 - accuracy: 0.8429 - val_loss: 1.4603 - val_accuracy: 0.6030\n",
      "Epoch 35/100\n",
      "8000/8000 [==============================] - 4s 535us/sample - loss: 0.5102 - accuracy: 0.8476 - val_loss: 1.4884 - val_accuracy: 0.5980\n",
      "Epoch 36/100\n",
      "8000/8000 [==============================] - 4s 505us/sample - loss: 0.4961 - accuracy: 0.8517 - val_loss: 1.5171 - val_accuracy: 0.5969\n",
      "Epoch 37/100\n",
      "8000/8000 [==============================] - 4s 492us/sample - loss: 0.4819 - accuracy: 0.8561 - val_loss: 1.4801 - val_accuracy: 0.6059\n",
      "Epoch 38/100\n",
      "8000/8000 [==============================] - 4s 520us/sample - loss: 0.4674 - accuracy: 0.8605 - val_loss: 1.5444 - val_accuracy: 0.5942\n",
      "Epoch 39/100\n",
      "8000/8000 [==============================] - 4s 503us/sample - loss: 0.4533 - accuracy: 0.8642 - val_loss: 1.5103 - val_accuracy: 0.6040\n",
      "Epoch 40/100\n",
      "8000/8000 [==============================] - 4s 540us/sample - loss: 0.4402 - accuracy: 0.8677 - val_loss: 1.5472 - val_accuracy: 0.5999\n",
      "Epoch 41/100\n",
      "8000/8000 [==============================] - 4s 557us/sample - loss: 0.4266 - accuracy: 0.8730 - val_loss: 1.5823 - val_accuracy: 0.5968\n",
      "Epoch 42/100\n",
      "8000/8000 [==============================] - 4s 507us/sample - loss: 0.4132 - accuracy: 0.8771 - val_loss: 1.6147 - val_accuracy: 0.5939\n",
      "Epoch 43/100\n",
      "8000/8000 [==============================] - 5s 613us/sample - loss: 0.4013 - accuracy: 0.8809 - val_loss: 1.6173 - val_accuracy: 0.5967\n",
      "Epoch 44/100\n",
      "8000/8000 [==============================] - 4s 515us/sample - loss: 0.3880 - accuracy: 0.8845 - val_loss: 1.6266 - val_accuracy: 0.5959\n",
      "Epoch 45/100\n",
      "8000/8000 [==============================] - 4s 550us/sample - loss: 0.3778 - accuracy: 0.8879 - val_loss: 1.6512 - val_accuracy: 0.5935\n",
      "Epoch 46/100\n",
      "8000/8000 [==============================] - 4s 510us/sample - loss: 0.3653 - accuracy: 0.8918 - val_loss: 1.7367 - val_accuracy: 0.5856\n",
      "Epoch 47/100\n",
      "8000/8000 [==============================] - 4s 514us/sample - loss: 0.3540 - accuracy: 0.8955 - val_loss: 1.6568 - val_accuracy: 0.5961\n",
      "Epoch 48/100\n",
      "8000/8000 [==============================] - 4s 513us/sample - loss: 0.3434 - accuracy: 0.8987 - val_loss: 1.7076 - val_accuracy: 0.5928\n",
      "Epoch 49/100\n",
      "8000/8000 [==============================] - 4s 513us/sample - loss: 0.3308 - accuracy: 0.9023 - val_loss: 1.7588 - val_accuracy: 0.5878\n",
      "Epoch 50/100\n",
      "8000/8000 [==============================] - 4s 515us/sample - loss: 0.3214 - accuracy: 0.9053 - val_loss: 1.8074 - val_accuracy: 0.5805\n",
      "Epoch 51/100\n",
      "8000/8000 [==============================] - 4s 514us/sample - loss: 0.3112 - accuracy: 0.9091 - val_loss: 1.7570 - val_accuracy: 0.5927\n",
      "Epoch 52/100\n",
      "8000/8000 [==============================] - 4s 515us/sample - loss: 0.3006 - accuracy: 0.9120 - val_loss: 1.7909 - val_accuracy: 0.5918\n",
      "Epoch 53/100\n",
      "8000/8000 [==============================] - 4s 516us/sample - loss: 0.2914 - accuracy: 0.9147 - val_loss: 1.8353 - val_accuracy: 0.5862\n",
      "Epoch 54/100\n",
      "8000/8000 [==============================] - 4s 513us/sample - loss: 0.2824 - accuracy: 0.9178 - val_loss: 1.8730 - val_accuracy: 0.5858\n",
      "Epoch 55/100\n"
     ]
    },
    {
     "name": "stdout",
     "output_type": "stream",
     "text": [
      "8000/8000 [==============================] - 4s 503us/sample - loss: 0.2725 - accuracy: 0.9209 - val_loss: 1.9304 - val_accuracy: 0.5816\n",
      "Epoch 56/100\n",
      "8000/8000 [==============================] - 4s 499us/sample - loss: 0.2647 - accuracy: 0.9233 - val_loss: 1.8733 - val_accuracy: 0.5899\n",
      "Epoch 57/100\n",
      "8000/8000 [==============================] - 4s 501us/sample - loss: 0.2549 - accuracy: 0.9260 - val_loss: 1.9097 - val_accuracy: 0.5871\n",
      "Epoch 58/100\n",
      "8000/8000 [==============================] - 4s 501us/sample - loss: 0.2475 - accuracy: 0.9276 - val_loss: 1.9679 - val_accuracy: 0.5811\n",
      "Epoch 59/100\n",
      "8000/8000 [==============================] - 4s 504us/sample - loss: 0.2391 - accuracy: 0.9305 - val_loss: 1.9591 - val_accuracy: 0.5867\n",
      "Epoch 60/100\n",
      "8000/8000 [==============================] - 4s 502us/sample - loss: 0.2311 - accuracy: 0.9336 - val_loss: 2.0154 - val_accuracy: 0.5799\n",
      "Epoch 61/100\n",
      "8000/8000 [==============================] - 4s 500us/sample - loss: 0.2223 - accuracy: 0.9362 - val_loss: 2.0150 - val_accuracy: 0.5832\n",
      "Epoch 62/100\n",
      "8000/8000 [==============================] - 4s 501us/sample - loss: 0.2165 - accuracy: 0.9376 - val_loss: 1.9973 - val_accuracy: 0.5881\n",
      "Epoch 63/100\n",
      "8000/8000 [==============================] - 5s 563us/sample - loss: 0.2086 - accuracy: 0.9402 - val_loss: 2.0777 - val_accuracy: 0.5813\n",
      "Epoch 64/100\n",
      "8000/8000 [==============================] - 4s 504us/sample - loss: 0.2031 - accuracy: 0.9416 - val_loss: 2.0863 - val_accuracy: 0.5829\n",
      "Epoch 65/100\n",
      "8000/8000 [==============================] - 4s 515us/sample - loss: 0.1955 - accuracy: 0.9445 - val_loss: 2.0913 - val_accuracy: 0.5830\n",
      "Epoch 66/100\n",
      "8000/8000 [==============================] - 5s 570us/sample - loss: 0.1897 - accuracy: 0.9461 - val_loss: 2.1022 - val_accuracy: 0.5833\n",
      "Epoch 67/100\n",
      "8000/8000 [==============================] - 4s 543us/sample - loss: 0.1829 - accuracy: 0.9485 - val_loss: 2.1265 - val_accuracy: 0.5834\n",
      "Epoch 68/100\n",
      "8000/8000 [==============================] - 4s 558us/sample - loss: 0.1784 - accuracy: 0.9496 - val_loss: 2.1939 - val_accuracy: 0.5778\n",
      "Epoch 69/100\n",
      "8000/8000 [==============================] - 4s 526us/sample - loss: 0.1707 - accuracy: 0.9519 - val_loss: 2.2418 - val_accuracy: 0.5740\n",
      "Epoch 70/100\n",
      "8000/8000 [==============================] - 4s 527us/sample - loss: 0.1653 - accuracy: 0.9535 - val_loss: 2.2598 - val_accuracy: 0.5730\n",
      "Epoch 71/100\n",
      "8000/8000 [==============================] - 4s 540us/sample - loss: 0.1598 - accuracy: 0.9550 - val_loss: 2.2950 - val_accuracy: 0.5745\n",
      "Epoch 72/100\n",
      "8000/8000 [==============================] - 4s 518us/sample - loss: 0.1560 - accuracy: 0.9569 - val_loss: 2.3176 - val_accuracy: 0.5736\n",
      "Epoch 73/100\n",
      "8000/8000 [==============================] - 4s 551us/sample - loss: 0.1514 - accuracy: 0.9578 - val_loss: 2.3613 - val_accuracy: 0.5734\n",
      "Epoch 74/100\n",
      "8000/8000 [==============================] - 4s 516us/sample - loss: 0.1455 - accuracy: 0.9595 - val_loss: 2.3181 - val_accuracy: 0.5785\n",
      "Epoch 75/100\n",
      "8000/8000 [==============================] - 4s 513us/sample - loss: 0.1407 - accuracy: 0.9611 - val_loss: 2.3487 - val_accuracy: 0.5776\n",
      "Epoch 76/100\n",
      "8000/8000 [==============================] - 4s 514us/sample - loss: 0.1360 - accuracy: 0.9623 - val_loss: 2.3849 - val_accuracy: 0.5758\n",
      "Epoch 77/100\n",
      "8000/8000 [==============================] - 4s 509us/sample - loss: 0.1318 - accuracy: 0.9637 - val_loss: 2.3668 - val_accuracy: 0.5787\n",
      "Epoch 78/100\n",
      "8000/8000 [==============================] - 4s 554us/sample - loss: 0.1281 - accuracy: 0.9651 - val_loss: 2.4272 - val_accuracy: 0.5732\n",
      "Epoch 79/100\n",
      "8000/8000 [==============================] - 5s 684us/sample - loss: 0.1241 - accuracy: 0.9664 - val_loss: 2.4632 - val_accuracy: 0.5749\n",
      "Epoch 80/100\n",
      "8000/8000 [==============================] - 5s 651us/sample - loss: 0.1203 - accuracy: 0.9672 - val_loss: 2.4664 - val_accuracy: 0.5747\n",
      "Epoch 81/100\n",
      "8000/8000 [==============================] - 4s 534us/sample - loss: 0.1157 - accuracy: 0.9686 - val_loss: 2.4965 - val_accuracy: 0.5752\n",
      "Epoch 82/100\n",
      "8000/8000 [==============================] - 5s 593us/sample - loss: 0.1129 - accuracy: 0.9695 - val_loss: 2.4986 - val_accuracy: 0.5745\n",
      "Epoch 83/100\n",
      "8000/8000 [==============================] - 5s 574us/sample - loss: 0.1090 - accuracy: 0.9706 - val_loss: 2.5371 - val_accuracy: 0.5730\n",
      "Epoch 84/100\n",
      "8000/8000 [==============================] - 6s 700us/sample - loss: 0.1054 - accuracy: 0.9720 - val_loss: 2.5657 - val_accuracy: 0.5722\n",
      "Epoch 85/100\n",
      "8000/8000 [==============================] - 5s 586us/sample - loss: 0.1031 - accuracy: 0.9724 - val_loss: 2.5466 - val_accuracy: 0.5757\n",
      "Epoch 86/100\n",
      "8000/8000 [==============================] - 5s 594us/sample - loss: 0.1014 - accuracy: 0.9728 - val_loss: 2.5822 - val_accuracy: 0.5746\n",
      "Epoch 87/100\n",
      "8000/8000 [==============================] - 4s 547us/sample - loss: 0.0974 - accuracy: 0.9737 - val_loss: 2.5991 - val_accuracy: 0.5740\n",
      "Epoch 88/100\n",
      "8000/8000 [==============================] - 4s 542us/sample - loss: 0.0940 - accuracy: 0.9750 - val_loss: 2.5873 - val_accuracy: 0.5779\n",
      "Epoch 89/100\n",
      "8000/8000 [==============================] - 5s 571us/sample - loss: 0.0917 - accuracy: 0.9759 - val_loss: 2.6319 - val_accuracy: 0.5739\n",
      "Epoch 90/100\n",
      "8000/8000 [==============================] - 4s 531us/sample - loss: 0.0893 - accuracy: 0.9766 - val_loss: 2.6375 - val_accuracy: 0.5751\n",
      "Epoch 91/100\n",
      "8000/8000 [==============================] - 4s 509us/sample - loss: 0.0868 - accuracy: 0.9772 - val_loss: 2.7006 - val_accuracy: 0.5735\n",
      "Epoch 92/100\n",
      "8000/8000 [==============================] - 5s 585us/sample - loss: 0.0844 - accuracy: 0.9780 - val_loss: 2.6362 - val_accuracy: 0.5789\n",
      "Epoch 93/100\n",
      "8000/8000 [==============================] - 4s 544us/sample - loss: 0.0821 - accuracy: 0.9787 - val_loss: 2.6750 - val_accuracy: 0.5766\n",
      "Epoch 94/100\n",
      "8000/8000 [==============================] - 4s 521us/sample - loss: 0.0806 - accuracy: 0.9787 - val_loss: 2.6867 - val_accuracy: 0.5758\n",
      "Epoch 95/100\n",
      "8000/8000 [==============================] - 4s 516us/sample - loss: 0.0780 - accuracy: 0.9797 - val_loss: 2.7561 - val_accuracy: 0.5715\n",
      "Epoch 96/100\n",
      "8000/8000 [==============================] - 5s 576us/sample - loss: 0.0764 - accuracy: 0.9805 - val_loss: 2.7334 - val_accuracy: 0.5746\n",
      "Epoch 97/100\n",
      "8000/8000 [==============================] - 5s 637us/sample - loss: 0.0737 - accuracy: 0.9811 - val_loss: 2.7727 - val_accuracy: 0.5739\n",
      "Epoch 98/100\n",
      "8000/8000 [==============================] - 5s 645us/sample - loss: 0.0719 - accuracy: 0.9820 - val_loss: 2.7919 - val_accuracy: 0.5734\n",
      "Epoch 99/100\n",
      "8000/8000 [==============================] - 4s 519us/sample - loss: 0.0700 - accuracy: 0.9819 - val_loss: 2.7854 - val_accuracy: 0.5752\n",
      "Epoch 100/100\n",
      "8000/8000 [==============================] - 4s 539us/sample - loss: 0.0693 - accuracy: 0.9825 - val_loss: 2.8036 - val_accuracy: 0.5745\n"
     ]
    },
    {
     "data": {
      "text/plain": [
       "<tensorflow.python.keras.callbacks.History at 0x1faf3d91548>"
      ]
     },
     "execution_count": 69,
     "metadata": {},
     "output_type": "execute_result"
    }
   ],
   "source": [
    "model.compile(optimizer='rmsprop', loss='categorical_crossentropy',\n",
    "             metrics=['accuracy'])\n",
    "model.fit([encoder_input_data, decoder_input_data], decoder_target_data,\n",
    "         batch_size=batch_size,\n",
    "         epochs=epochs,\n",
    "         validation_split=0.2)"
   ]
  },
  {
   "cell_type": "code",
   "execution_count": 70,
   "metadata": {},
   "outputs": [],
   "source": [
    "# Save model\n",
    "model.save('s2s_zh2en.h5')"
   ]
  },
  {
   "cell_type": "markdown",
   "metadata": {},
   "source": [
    "#### Next: inference mode (sampling).\n",
    "#### Here's the drill:\n",
    "#### 1) encode input and retrieve initial decoder state\n",
    "#### 2) run one step of decoder with this initial state\n",
    "#### and a \"start of sequence\" token as target.\n",
    "#### Output will be the next target token\n",
    "#### 3) Repeat with the current target token and current states"
   ]
  },
  {
   "cell_type": "code",
   "execution_count": 71,
   "metadata": {},
   "outputs": [],
   "source": [
    "encoder_model = Model(encoder_inputs, encoder_states)\n",
    "\n",
    "decoder_state_input_h = Input(shape=(latent_dim,))\n",
    "decoder_state_input_c = Input(shape=(latent_dim,))\n",
    "decoder_states_inputs = [decoder_state_input_h, decoder_state_input_c]\n",
    "decoder_outputs, state_h, state_c = decoder_lstm(\n",
    "    decoder_inputs, initial_state=decoder_states_inputs)\n",
    "decoder_states = [state_h, state_c]\n",
    "decoder_outputs = decoder_dense(decoder_outputs)\n",
    "decoder_model = Model(\n",
    "    [decoder_inputs] + decoder_states_inputs,\n",
    "    [decoder_outputs] + decoder_states)"
   ]
  },
  {
   "cell_type": "code",
   "execution_count": 72,
   "metadata": {},
   "outputs": [],
   "source": [
    "# reverse lookup to decode sequence\n",
    "reverse_input_char_index = dict(\n",
    "    (i, char) for char, i in input_token_index.items())\n",
    "reverse_target_char_index = dict(\n",
    "    (i, char) for char, i in target_token_index.items())"
   ]
  },
  {
   "cell_type": "code",
   "execution_count": 75,
   "metadata": {},
   "outputs": [],
   "source": [
    "def decode_sequence(input_seq):\n",
    "    # encode input as state vectors\n",
    "    states_value = encoder_model.predict(input_seq)\n",
    "    \n",
    "    # generate empty target sequence of length 1\n",
    "    target_seq = np.zeros((1, 1, num_decoder_tokens))\n",
    "    # populate the first char of target sequence with start char.\n",
    "    target_seq[0, 0, target_token_index['\\t']] = 1.\n",
    "    \n",
    "    # sampling loop for batch sequences\n",
    "    stop_condition = False\n",
    "    decoded_sentence = ''\n",
    "    while not stop_condition:\n",
    "        output_tokens, h, c = decoder_model.predict(\n",
    "        [target_seq] + states_value)\n",
    "        \n",
    "        sampled_token_index = np.argmax(output_tokens[0, -1, :])\n",
    "        sampled_char = reverse_target_char_index[sampled_token_index]\n",
    "        decoded_sentence += sampled_char\n",
    "        \n",
    "        # exit condition: max length\n",
    "        # or stop char\n",
    "        if (sampled_char == '\\n' or\n",
    "           len(decoded_sentence) > max_decoder_seq_length):\n",
    "            stop_condition = True\n",
    "        \n",
    "        # update the target sequence (of length 1)/\n",
    "        target_seq[0, 0, sampled_token_index] = 1.\n",
    "        \n",
    "        # update states\n",
    "        states_value = [h, c]\n",
    "        \n",
    "    return decoded_sentence"
   ]
  },
  {
   "cell_type": "code",
   "execution_count": 77,
   "metadata": {},
   "outputs": [
    {
     "name": "stdout",
     "output_type": "stream",
     "text": [
      "-\n",
      "Input sentence: 嗨。\n",
      "Decoded sentence: Hi'lllvvvevseeeeeeeeeeeeevvvvvvvv\n",
      "-\n",
      "Input sentence: 你好。\n",
      "Decoded sentence: Hew laaavairiiiiiiiiiiiiiiiiiiiid\n",
      "-\n",
      "Input sentence: 你用跑的。\n",
      "Decoded sentence: Rungreesssttt sssasvieeeeeeeeeeee\n",
      "-\n",
      "Input sentence: 等等！\n",
      "Decoded sentence: Waitcccey!,    'sssllllll\n",
      "\n",
      "-\n",
      "Input sentence: 你好。\n",
      "Decoded sentence: Hew laaavairiiiiiiiiiiiiiiiiiiiid\n"
     ]
    }
   ],
   "source": [
    "for seq_index in range(5):\n",
    "    # Take one sequence (part of the training set)\n",
    "    # for trying out decoding.\n",
    "    input_seq = encoder_input_data[seq_index: seq_index + 1]\n",
    "    decoded_sentence = decode_sequence(input_seq)\n",
    "    print('-')\n",
    "    print('Input sentence:', input_texts[seq_index])\n",
    "    print('Decoded sentence:', decoded_sentence)"
   ]
  }
 ],
 "metadata": {
  "kernelspec": {
   "display_name": "tf_gpu",
   "language": "python",
   "name": "tf_gpu"
  },
  "language_info": {
   "codemirror_mode": {
    "name": "ipython",
    "version": 3
   },
   "file_extension": ".py",
   "mimetype": "text/x-python",
   "name": "python",
   "nbconvert_exporter": "python",
   "pygments_lexer": "ipython3",
   "version": "3.7.5"
  }
 },
 "nbformat": 4,
 "nbformat_minor": 2
}
