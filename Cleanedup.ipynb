{
 "cells": [
  {
   "cell_type": "code",
   "execution_count": 8,
   "metadata": {},
   "outputs": [],
   "source": [
    "from bs4 import BeautifulSoup\n",
    "import requests\n",
    "import pandas as pd"
   ]
  },
  {
   "cell_type": "code",
   "execution_count": 20,
   "metadata": {},
   "outputs": [],
   "source": [
    "url2 = 'https://lyricstranslate.com/en/collection/chinese-songs-transliteration-easy-learning'\n",
    "html_content2 = requests.get(url2).text\n",
    "soup2 = BeautifulSoup(html_content2)"
   ]
  },
  {
   "cell_type": "code",
   "execution_count": 21,
   "metadata": {},
   "outputs": [],
   "source": [
    "links_list = []\n",
    "for i in soup2.find_all(\"span\", class_=\"collection-title\"):\n",
    "    for c in i.children:\n",
    "        links_list.append(c['href'])"
   ]
  },
  {
   "cell_type": "code",
   "execution_count": 36,
   "metadata": {
    "scrolled": true
   },
   "outputs": [
    {
     "name": "stderr",
     "output_type": "stream",
     "text": [
      "//anaconda3/lib/python3.7/site-packages/tensorflow/python/framework/dtypes.py:523: FutureWarning: Passing (type, 1) or '1type' as a synonym of type is deprecated; in a future version of numpy, it will be understood as (type, (1,)) / '(1,)type'.\n",
      "  _np_qint8 = np.dtype([(\"qint8\", np.int8, 1)])\n",
      "//anaconda3/lib/python3.7/site-packages/tensorflow/python/framework/dtypes.py:524: FutureWarning: Passing (type, 1) or '1type' as a synonym of type is deprecated; in a future version of numpy, it will be understood as (type, (1,)) / '(1,)type'.\n",
      "  _np_quint8 = np.dtype([(\"quint8\", np.uint8, 1)])\n",
      "//anaconda3/lib/python3.7/site-packages/tensorflow/python/framework/dtypes.py:525: FutureWarning: Passing (type, 1) or '1type' as a synonym of type is deprecated; in a future version of numpy, it will be understood as (type, (1,)) / '(1,)type'.\n",
      "  _np_qint16 = np.dtype([(\"qint16\", np.int16, 1)])\n",
      "//anaconda3/lib/python3.7/site-packages/tensorflow/python/framework/dtypes.py:526: FutureWarning: Passing (type, 1) or '1type' as a synonym of type is deprecated; in a future version of numpy, it will be understood as (type, (1,)) / '(1,)type'.\n",
      "  _np_quint16 = np.dtype([(\"quint16\", np.uint16, 1)])\n",
      "//anaconda3/lib/python3.7/site-packages/tensorflow/python/framework/dtypes.py:527: FutureWarning: Passing (type, 1) or '1type' as a synonym of type is deprecated; in a future version of numpy, it will be understood as (type, (1,)) / '(1,)type'.\n",
      "  _np_qint32 = np.dtype([(\"qint32\", np.int32, 1)])\n",
      "//anaconda3/lib/python3.7/site-packages/tensorflow/python/framework/dtypes.py:532: FutureWarning: Passing (type, 1) or '1type' as a synonym of type is deprecated; in a future version of numpy, it will be understood as (type, (1,)) / '(1,)type'.\n",
      "  np_resource = np.dtype([(\"resource\", np.ubyte, 1)])\n",
      "//anaconda3/lib/python3.7/site-packages/tensorboard/compat/tensorflow_stub/dtypes.py:541: FutureWarning: Passing (type, 1) or '1type' as a synonym of type is deprecated; in a future version of numpy, it will be understood as (type, (1,)) / '(1,)type'.\n",
      "  _np_qint8 = np.dtype([(\"qint8\", np.int8, 1)])\n",
      "//anaconda3/lib/python3.7/site-packages/tensorboard/compat/tensorflow_stub/dtypes.py:542: FutureWarning: Passing (type, 1) or '1type' as a synonym of type is deprecated; in a future version of numpy, it will be understood as (type, (1,)) / '(1,)type'.\n",
      "  _np_quint8 = np.dtype([(\"quint8\", np.uint8, 1)])\n",
      "//anaconda3/lib/python3.7/site-packages/tensorboard/compat/tensorflow_stub/dtypes.py:543: FutureWarning: Passing (type, 1) or '1type' as a synonym of type is deprecated; in a future version of numpy, it will be understood as (type, (1,)) / '(1,)type'.\n",
      "  _np_qint16 = np.dtype([(\"qint16\", np.int16, 1)])\n",
      "//anaconda3/lib/python3.7/site-packages/tensorboard/compat/tensorflow_stub/dtypes.py:544: FutureWarning: Passing (type, 1) or '1type' as a synonym of type is deprecated; in a future version of numpy, it will be understood as (type, (1,)) / '(1,)type'.\n",
      "  _np_quint16 = np.dtype([(\"quint16\", np.uint16, 1)])\n",
      "//anaconda3/lib/python3.7/site-packages/tensorboard/compat/tensorflow_stub/dtypes.py:545: FutureWarning: Passing (type, 1) or '1type' as a synonym of type is deprecated; in a future version of numpy, it will be understood as (type, (1,)) / '(1,)type'.\n",
      "  _np_qint32 = np.dtype([(\"qint32\", np.int32, 1)])\n",
      "//anaconda3/lib/python3.7/site-packages/tensorboard/compat/tensorflow_stub/dtypes.py:550: FutureWarning: Passing (type, 1) or '1type' as a synonym of type is deprecated; in a future version of numpy, it will be understood as (type, (1,)) / '(1,)type'.\n",
      "  np_resource = np.dtype([(\"resource\", np.ubyte, 1)])\n"
     ]
    }
   ],
   "source": [
    "from __future__ import absolute_import, division, print_function, unicode_literals\n",
    "\n",
    "import tensorflow as tf\n",
    "\n",
    "import matplotlib.pyplot as plt\n",
    "import matplotlib.ticker as ticker\n",
    "\n",
    "from sklearn.model_selection import train_test_split\n",
    "\n",
    "from bs4 import BeautifulSoup\n",
    "import requests\n",
    "\n",
    "import unicodedata\n",
    "import re\n",
    "import numpy as np\n",
    "import os\n",
    "import io\n",
    "import time"
   ]
  },
  {
   "cell_type": "code",
   "execution_count": 37,
   "metadata": {},
   "outputs": [],
   "source": [
    "def unicode_to_ascii(s):\n",
    "    return ''.join(c for c in unicodedata.normalize('NFKD', s) if unicodedata.category(c) != 'Mn')\n",
    "\n",
    "def preprocess_sentence(w):\n",
    "    w = unicode_to_ascii(w.lower().strip())\n",
    "    \n",
    "    # creating a space between a word and the punctuation following it\n",
    "    # eg: \"he is a boy.\" => \"he is a boy .\"\n",
    "    # Reference:- https://stackoverflow.com/questions/3645931/python-padding-punctuation-with-white-spaces-keeping-punctuation\n",
    "    w = re.sub(r'([?.!,¿])', r' \\1 ', w)\n",
    "    w = re.sub(r'[\"\"]', \" \", w)\n",
    "    \n",
    "    # add space between chinese characters without affecting english letters\n",
    "    w = re.sub(r'(?<=[^a-z\\W\\d_])(?=[^a-z\\W\\d_])', ' ', w)\n",
    "    \n",
    "    # replace everything with space except (a-z, A-Z, \".\", \"?\", \"!\", \",\")\n",
    "#     w = re.sub(r'[^a-zA-Z?.,!¿]', ' ', w)\n",
    "    \n",
    "    w.rstrip().strip()\n",
    "    \n",
    "    # add a start and an end token to the sentence\n",
    "    # so that the model know when to start and stop\n",
    "    w = '<start> ' + w + ' <end>'\n",
    "    return w\n",
    "\n",
    "\n"
   ]
  },
  {
   "cell_type": "code",
   "execution_count": 59,
   "metadata": {},
   "outputs": [],
   "source": [
    "def create_dataset(url):\n",
    "    html_content = requests.get(url).text\n",
    "    soup = BeautifulSoup(html_content)\n",
    "    lines = soup.find_all(class_=\"ltf\")\n",
    "    if len(lines) == 2:\n",
    "        word_pairs = [[preprocess_sentence(w) for w in l.get_text().split('\\n')] for l in lines]\n",
    "#     return zip(*word_pairs)\n",
    "        return word_pairs\n",
    "    else:\n",
    "        return [[], []]\n"
   ]
  },
  {
   "cell_type": "code",
   "execution_count": 78,
   "metadata": {},
   "outputs": [],
   "source": [
    "zhall = []\n",
    "trall = []\n",
    "\n",
    "for lst in links_list:\n",
    "    zh, tr = create_dataset(\"https://lyricstranslate.com/\"+lst)\n",
    "    zhall.append(zh)\n",
    "    trall.append(tr)"
   ]
  },
  {
   "cell_type": "code",
   "execution_count": 64,
   "metadata": {
    "scrolled": true
   },
   "outputs": [
    {
     "name": "stdout",
     "output_type": "stream",
     "text": [
      "[['<start> ni cengjing dui wo shuoguo <end>', '<start> yongyuan de ai wo <end>', '<start> shui zhidao ni dehua er <end>', '<start> dou shi zai pian wo <end>', '<start> ni henxin paoqi wo <end>', '<start> ye buguan wo sihuo <end>', '<start> shui ai wo shui ai wo <end>', '<start> shui lai ai wo <end>', '<start> buzhi shui lai ai wo xiangqile xinli nanguo <end>', '<start> wo dui ni bucuo <end>', '<start> wo de xin weile ni <end>', '<start> meiyou fangxiaguo <end>', '<start> pa ni leng pa ni re <end>', '<start> pa ni ke pa ni e <end>', '<start> shui ai wo shui ai wo <end>', '<start> shui lai ai wo <end>', '<start> buzhi shui lai ai wo ni conglai meiyou gei wo <end>', '<start> yidian er kuaile <end>', '<start> wo ming li zhuding <end>', '<start> yao shou ni de zhemo <end>', '<start> ai shi jia qing shi suo <end>', '<start> wo pian yuan shou zhemo <end>', '<start> shui ai wo shui ai wo <end>', '<start> shui lai ai wo <end>', '<start> buzhi shui lai ai wo xiangqile xinli nanguo <end>', '<start> wo dui ni bucuo <end>', '<start> wo de xin weile ni <end>', '<start> meiyou fangxiaguo <end>', '<start> pa ni leng pa ni re <end>', '<start> pa ni ke pa ni e <end>', '<start> shui ai wo shui ai wo <end>', '<start> shui lai ai wo <end>', '<start> buzhi shui lai ai wo ni cengjing dui wo shuoguo <end>', '<start> yongyuan de ai wo <end>', '<start> shui zhidao ni dehua er <end>', '<start> dou shi zai pian wo <end>', '<start> ni henxin paoqi wo <end>', '<start> ye buguan wo sihuo <end>', '<start> shui ai wo shui ai wo <end>', '<start> shui lai ai wo <end>', '<start> buzhi shui lai ai wo ni conglai mei you gei wo <end>', '<start> yidian er kuaile <end>', '<start> wo ming li zhuding <end>', '<start> yao shou ni de zhemo <end>', '<start> ai shi jia qing shi suo <end>', '<start> wo pian yuan shou zhemo <end>', '<start> shui ai wo shui ai wo <end>', '<start> shui lai ai wo <end>', '<start> buzhi shui lai ai wo <end>'], [], ['<start> wo mei wangji ni wangji wo <end>', '<start> lian mingzi ni dou shuo cuo <end>', '<start> zhengming ni yiqie dou shi zai pian wo <end>', '<start> kan jintian ni zenme shuo ni shuoguo liang tian lai kan wo <end>', '<start> yi deng jiushi yi nian duo <end>', '<start> sanbai liushiwu ge rizi bu haoguo <end>', '<start> ni xinli genben meiyou wo <end>', '<start> ba wo de aiqing hai gei wo wo mei wangji ni wangji wo <end>', '<start> lian mingzi ni dou shuo cuo <end>', '<start> zhengming ni yiqie dou shi zai pian wo <end>', '<start> kan jintian ni zenme shuo ni shuoguo liang tian lai kan wo <end>', '<start> yi deng jiushi yi nian duo <end>', '<start> sanbai liushiwu ge rizi bu haoguo <end>', '<start> ni xinli genben meiyou wo <end>', '<start> ba wo de aiqing hai gei wo ni shuoguo liang tian lai kan wo <end>', '<start> yi deng jiushi yi nian duo <end>', '<start> sanbai liushiwu ge rizi bu haoguo <end>', '<start> ni xinli genben meiyou wo <end>', '<start> ba wo de aiqing hai gei wo <end>'], ['<start> nani mo shirazu ni anata wa itta wa <end>', '<start> tamani wa hitori no tabi mo i yo <end>', '<start> to ame no kuko dekki ni tatazumi <end>', '<start> te o furu anata mienaku naru wa <end>', '<start> dozo kaette ano hito no moto e <end>', '<start> watashi wa hitori satte iku  itsu mo shizuka ni anata no kaeri o <end>', '<start> matteru yasashi hito ga iru no yo <end>', '<start> ame ni kemutta jetto no mado kara <end>', '<start> namida o korae sayonara iu no <end>', '<start> dozo modotte ano hito no moto e <end>', '<start> watashi wa toi machi e iku  ai wa darenimo makenai keredo <end>', '<start> wakareru koto ga futari no tame yo <end>', '<start> dozo kaette ano hito no moto e <end>', '<start> watashi wa hitori satte yuku <end>'], ['<start> chuntian daolai baihua hong <end>', '<start> renao de luo shengxiang jietou <end>', '<start> hongnanlunu shou wan shou <end>', '<start> gongxi gongxi sheng sheng song kuaile de qifen zai yanzhong <end>', \"<start> ke'ai de chuntian xi xiangfeng <end>\", '<start> wangshi mianmian yi cheng kong <end>', '<start> yi cheng kong wangshi ru meng xin de xiwang zai xinzhong <end>', '<start> zhao zhao mu mu wannian hong <end>', '<start> wanshi ruyi hao qiancheng <end>', '<start> yi nian siji le rongrong <end>', '<start> hongyun dangtou le wuqiong <end>', '<start> gong zhu dajia wannian hong bu zai huixiang jiushi meng <end>', '<start> jiushi de huanmeng yi cheng kong <end>', '<start> huiyi guoqu you he yong <end>', '<start> wanshi jituo zai niantou meili de chuntian yao gesong <end>', '<start> chuntian yi qu bu huitou <end>', '<start> yinggai zhenxi hao niantou <end>', '<start> hebi youchou xin de niantou <end>', '<start> shuo sheng dajia yao zhenzhong jiu xiang chunhua wannian hong <end>', '<start> gongxi gongxi wannian hong <end>', '<start> yi nian siji le rongrong <end>', '<start> hongyun dangtou le wuqiong <end>', '<start> gong zhu dajia wannian hong <end>'], ['<start> youxie shi wo mei shuo dan wo you ganjue <end>', '<start> youxie shi wo mei shuo dan wo zhidao jieguo <end>', '<start> youxie shi wo mei shuo dan ni you ganjue <end>', '<start> youxie shi wo mei shuo dan ni zhidao jieguo you yitian wo hui cha shang chibang fei <end>', '<start> you yitian wo hui zhangkaishuang yankan <end>', '<start> you yitian wo huijian dao wo de mengzhong you shui <end>', '<start> you yitian wo hui feiguo shijie de bei youxie shi wo mei shuo dan wo you ganjue <end>', '<start> youxie shi wo mei shuo dan wo zhidao jieguo <end>', '<start> youxie shi wo mei shuo dan ni you ganjue <end>', '<start> youxie shi wo mei shuo dan ni zhidao jieguo you yitian wo hui cha shang chibang fei <end>', '<start> you yitian wo hui zhangkaishuang yankan <end>', '<start> you yitian wo huijian dao wo de mengzhong you shui <end>', '<start> you yitian wo hui feiguo shijie de bei dang taiyang sheng qi di na yitian ni zai kan wo yibian <end>', '<start> ni jiang hui faxian wo suoyou de gaibian you yitian wo hui cha shang chibang fei <end>', '<start> you yitian wo hui zhangkaishuang yankan <end>', '<start> you yitian wo huijian dao wo de mengzhong you shui <end>', '<start> you yitian wo hui feiguo shijie de bei dang taiyang sheng qi di na yitian ni zai kan wo yibian <end>', '<start> ni jiang hui faxian wo suoyou de gaibian <end>'], ['<start> wu yan du shang xi lou ,  <end>', '<start> yue ru gou ,  <end>', '<start> jimo wutong shen yuan suo qingqiu .  <end>', '<start> *jian buduan ,  <end>', '<start> li hai luan ,  <end>', '<start> shi lichou ,  <end>', '<start> bie shi yiban ziwei zai xintou .  <end>', '<start> (x2) , * , (x1) <end>'], ['<start> yingzhe fengshuang jiaobu qi liang <end>', '<start> langzi zai yixiang <end>', '<start> shou jin chuangshang lijin cangsang <end>', '<start> xiangqi wo de niang <end>', '<start> niang xin ru mian titie wo shen <end>', '<start> dai gei wo wennuan <end>', '<start> wo yao hui dao ni shen pang bu zai fangdang bu zai liulang <end>', '<start> wo yao hui jiaxiang <end>', '<start> chongxin zuo ren chongxin zuo shi <end>', '<start> anwei wo de niang <end>', '<start> niang xin ruyue zhao liang wo shen <end>', '<start> shi wo bu fanghuang <end>', '<start> ye hui shi wo geng jianqiang <end>', '<start> x2 <end>'], [\"<start> ni wo xiang na hai'ou wu you ye wu chou <end>\", '<start> shuangshuang biyi ren aoyou <end>', '<start> ben xiang na caihong fei dao neitian jintou <end>', '<start> zhiyao you ni lai wei ou riye xiangban zai zuoyou <end>', '<start> haikuotiankong yong bu huitou yao ba lixiang lai zhuiqiu <end>', '<start> bupa na dongtian de hanliu xiatian fengyu lai zhemo ni wo xiang na liu yun piao piao wujian chou <end>', '<start> xiaoyao zizai ren piaoyou <end>', '<start> suizhe na weifeng jie chengle hao pengyou <end>', '<start> wo yuan you ni lai wei ou shi shike ke zai zuoyou <end>', '<start> kan nei tiankong duome liaokuo tong ba lixiang lai zhuiqiu <end>', \"<start> buguan na zu'ai xuduo women yiran yao fen tou dan yuan ni neng liaojie wo yao ni ai wo <end>\", '<start> yinwei wo youle ni shengming cai you xiwang <end>', '<start> yuan ni jide wo xian gei ni de qing rou <end>', '<start> rang women yongyuan ba na ai choumou ni wo xiang na liu yun piao piao wujian chou <end>', '<start> xiaoyao zizai ren piaoyou <end>', '<start> suizhe na weifeng jie chengle hao pengyou <end>', '<start> wo yuan you ni lai wei ou shi shike ke zai zuoyou <end>', '<start> kan nei tiankong duome liaokuo tong ba lixiang lai zhuiqiu <end>', \"<start> buguan na zu'ai xuduo women yiran yao fen tou dan yuan ni neng liaojie wo yao ni ai wo <end>\", '<start> yinwei wo youle ni shengming cai you xiwang <end>', '<start> yuan ni jide wo xian gei ni de qing rou <end>', '<start> rang women yongyuan ba na ai choumou <end>'], ['<start> youyuan xiangju <end>', '<start> you hebi chang xiang qi <end>', '<start> dao wuyuan shi fenli <end>', '<start> you hebi chang xiang yi <end>', '<start> wo xin li you de <end>', '<start> zhishi yige ni <end>', '<start> ni xinli meiyou wo <end>', '<start> you hebi zai yiqi jintian shuo yao wangle ni <end>', '<start> mingtian que you xiangqi ni <end>', '<start> nian ni ,  nian ni zai meng li <end>', '<start> wen ci qing he shi yi youyuan xiangju <end>', '<start> you hebi chang xiang qi <end>', '<start> dao wuyuan shi fenli <end>', '<start> you hebi chang xiang yi <end>', '<start> wo xin li you de <end>', '<start> zhishi yige ni <end>', '<start> ni xinli meiyou wo <end>', '<start> you hebi zai yiqi <end>', '<start> x2 <end>']]\n"
     ]
    }
   ],
   "source": [
    "print(trall[:10])"
   ]
  },
  {
   "cell_type": "code",
   "execution_count": 82,
   "metadata": {},
   "outputs": [
    {
     "name": "stdout",
     "output_type": "stream",
     "text": [
      "['<start> 你 曾 經 對 我 說 過 <end>', '<start> 永 遠 的 愛 我 <end>', '<start> 誰 知 道 你 的 話 兒 <end>', '<start> 都 是 在 騙 我 <end>', '<start> 你 狠 心 拋 棄 我 <end>', '<start> 也 不 管 我 死 活 <end>', '<start> 誰 愛 我 誰 愛 我 <end>', '<start> 誰 來 愛 我 <end>', '<start> 不 知 誰 來 愛 我 想 起 了 心 裡 難 過 <end>', '<start> 我 對 你 不 錯 <end>', '<start> 我 的 心 為 了 你 <end>', '<start> 沒 有 放 下 過 <end>', '<start> 怕 你 冷 怕 你 熱 <end>', '<start> 怕 你 渴 怕 你 餓 <end>', '<start> 誰 愛 我 誰 愛 我 <end>', '<start> 誰 來 愛 我 <end>', '<start> 不 知 誰 來 愛 我 你 從 來 沒 有 給 我 <end>', '<start> 一 點 兒 快 樂 <end>', '<start> 我 命 裡 注 定 <end>', '<start> 要 受 你 的 折 磨 <end>', '<start> 愛 是 枷 情 是 鎖 <end>', '<start> 我 偏 願 受 折 磨 <end>', '<start> 誰 愛 我 誰 愛 我 <end>', '<start> 誰 來 愛 我 <end>', '<start> 不 知 誰 來 愛 我 想 起 了 心 裡 難 過 <end>', '<start> 我 對 你 不 錯 <end>', '<start> 我 的 心 為 了 你 <end>', '<start> 沒 有 放 下 過 <end>', '<start> 怕 你 冷 怕 你 熱 <end>', '<start> 怕 你 渴 怕 你 餓 <end>', '<start> 誰 愛 我 誰 愛 我 <end>', '<start> 誰 來 愛 我 <end>', '<start> 不 知 誰 來 愛 我 你 曾 經 對 我 說 過 <end>', '<start> 永 遠 的 愛 我 <end>', '<start> 誰 知 道 你 的 話 兒 <end>', '<start> 都 是 在 騙 我 <end>', '<start> 你 狠 心 拋 棄 我 <end>', '<start> 也 不 管 我 死 活 <end>', '<start> 誰 愛 我 誰 愛 我 <end>', '<start> 誰 來 愛 我 <end>', '<start> 不 知 誰 來 愛 我 你 從 來 沒 有 給 我 <end>', '<start> 一 點 兒 快 樂 <end>', '<start> 我 命 裡 注 定 <end>', '<start> 要 受 你 的 折 磨 <end>', '<start> 愛 是 枷 情 是 鎖 <end>', '<start> 我 偏 願 受 折 磨 <end>', '<start> 誰 愛 我 誰 愛 我 <end>', '<start> 誰 來 愛 我 <end>', '<start> 不 知 誰 來 愛 我 <end>', '<start> 我 没 忘 记 你 忘 记 我 <end>']\n"
     ]
    }
   ],
   "source": [
    "zhall_2 = []\n",
    "for z in zhall:\n",
    "#     zhall_2.append(z.split(\"<end>\"))\n",
    "    for i in z:\n",
    "        zhall_2.append(i)\n",
    "print(zhall_2[:50])"
   ]
  },
  {
   "cell_type": "code",
   "execution_count": 85,
   "metadata": {},
   "outputs": [],
   "source": [
    "def work(ll):\n",
    "    \n",
    "    res = list()\n",
    "    for l in ll:\n",
    "        for i in l:\n",
    "            res.append(i)\n",
    "    return res"
   ]
  },
  {
   "cell_type": "code",
   "execution_count": 87,
   "metadata": {},
   "outputs": [],
   "source": [
    "zhall2 = work(zhall)\n",
    "trall2 = work(trall)\n"
   ]
  },
  {
   "cell_type": "code",
   "execution_count": 89,
   "metadata": {},
   "outputs": [
    {
     "data": {
      "text/html": [
       "<div>\n",
       "<style scoped>\n",
       "    .dataframe tbody tr th:only-of-type {\n",
       "        vertical-align: middle;\n",
       "    }\n",
       "\n",
       "    .dataframe tbody tr th {\n",
       "        vertical-align: top;\n",
       "    }\n",
       "\n",
       "    .dataframe thead th {\n",
       "        text-align: right;\n",
       "    }\n",
       "</style>\n",
       "<table border=\"1\" class=\"dataframe\">\n",
       "  <thead>\n",
       "    <tr style=\"text-align: right;\">\n",
       "      <th></th>\n",
       "      <th>ZH</th>\n",
       "      <th>EN</th>\n",
       "    </tr>\n",
       "  </thead>\n",
       "  <tbody>\n",
       "    <tr>\n",
       "      <th>0</th>\n",
       "      <td>&lt;start&gt; 你 曾 經 對 我 說 過 &lt;end&gt;</td>\n",
       "      <td>&lt;start&gt; ni cengjing dui wo shuoguo &lt;end&gt;</td>\n",
       "    </tr>\n",
       "    <tr>\n",
       "      <th>1</th>\n",
       "      <td>&lt;start&gt; 永 遠 的 愛 我 &lt;end&gt;</td>\n",
       "      <td>&lt;start&gt; yongyuan de ai wo &lt;end&gt;</td>\n",
       "    </tr>\n",
       "    <tr>\n",
       "      <th>2</th>\n",
       "      <td>&lt;start&gt; 誰 知 道 你 的 話 兒 &lt;end&gt;</td>\n",
       "      <td>&lt;start&gt; shui zhidao ni dehua er &lt;end&gt;</td>\n",
       "    </tr>\n",
       "    <tr>\n",
       "      <th>3</th>\n",
       "      <td>&lt;start&gt; 都 是 在 騙 我 &lt;end&gt;</td>\n",
       "      <td>&lt;start&gt; dou shi zai pian wo &lt;end&gt;</td>\n",
       "    </tr>\n",
       "    <tr>\n",
       "      <th>4</th>\n",
       "      <td>&lt;start&gt; 你 狠 心 拋 棄 我 &lt;end&gt;</td>\n",
       "      <td>&lt;start&gt; ni henxin paoqi wo &lt;end&gt;</td>\n",
       "    </tr>\n",
       "    <tr>\n",
       "      <th>...</th>\n",
       "      <td>...</td>\n",
       "      <td>...</td>\n",
       "    </tr>\n",
       "    <tr>\n",
       "      <th>495</th>\n",
       "      <td>&lt;start&gt; 才 算 魔 鬼 的 身 材 &lt;end&gt;</td>\n",
       "      <td>&lt;start&gt; cai suan mo gui de shen cai &lt;end&gt;</td>\n",
       "    </tr>\n",
       "    <tr>\n",
       "      <th>496</th>\n",
       "      <td>&lt;start&gt; 不 愿 为 男 人 而 忍 耐 &lt;end&gt;</td>\n",
       "      <td>&lt;start&gt; bu yuan wei nan ren er ren nai  bu gua...</td>\n",
       "    </tr>\n",
       "    <tr>\n",
       "      <th>497</th>\n",
       "      <td>&lt;start&gt; [x2] 做 回 自 己 才 是 美 丽 &lt;end&gt;</td>\n",
       "      <td>&lt;start&gt; bu guan mei li de chen ai &lt;end&gt;</td>\n",
       "    </tr>\n",
       "    <tr>\n",
       "      <th>498</th>\n",
       "      <td>&lt;start&gt; 不 管 别 人 怎 么 说 你 &lt;end&gt;</td>\n",
       "      <td>&lt;start&gt; zuo hui zi ji ke bu ke yi &lt;end&gt;</td>\n",
       "    </tr>\n",
       "    <tr>\n",
       "      <th>499</th>\n",
       "      <td>&lt;start&gt; 喜 不 喜 欢 请 你 随 意 &lt;end&gt;</td>\n",
       "      <td>&lt;start&gt; xi bu xi huan sui bian ni &lt;end&gt;</td>\n",
       "    </tr>\n",
       "  </tbody>\n",
       "</table>\n",
       "<p>500 rows × 2 columns</p>\n",
       "</div>"
      ],
      "text/plain": [
       "                                     ZH  \\\n",
       "0           <start> 你 曾 經 對 我 說 過 <end>   \n",
       "1               <start> 永 遠 的 愛 我 <end>   \n",
       "2           <start> 誰 知 道 你 的 話 兒 <end>   \n",
       "3               <start> 都 是 在 騙 我 <end>   \n",
       "4             <start> 你 狠 心 拋 棄 我 <end>   \n",
       "..                                  ...   \n",
       "495         <start> 才 算 魔 鬼 的 身 材 <end>   \n",
       "496       <start> 不 愿 为 男 人 而 忍 耐 <end>   \n",
       "497  <start> [x2] 做 回 自 己 才 是 美 丽 <end>   \n",
       "498       <start> 不 管 别 人 怎 么 说 你 <end>   \n",
       "499       <start> 喜 不 喜 欢 请 你 随 意 <end>   \n",
       "\n",
       "                                                    EN  \n",
       "0             <start> ni cengjing dui wo shuoguo <end>  \n",
       "1                      <start> yongyuan de ai wo <end>  \n",
       "2                <start> shui zhidao ni dehua er <end>  \n",
       "3                    <start> dou shi zai pian wo <end>  \n",
       "4                     <start> ni henxin paoqi wo <end>  \n",
       "..                                                 ...  \n",
       "495          <start> cai suan mo gui de shen cai <end>  \n",
       "496  <start> bu yuan wei nan ren er ren nai  bu gua...  \n",
       "497            <start> bu guan mei li de chen ai <end>  \n",
       "498            <start> zuo hui zi ji ke bu ke yi <end>  \n",
       "499            <start> xi bu xi huan sui bian ni <end>  \n",
       "\n",
       "[500 rows x 2 columns]"
      ]
     },
     "execution_count": 89,
     "metadata": {},
     "output_type": "execute_result"
    }
   ],
   "source": [
    "pd.DataFrame({\"ZH\":zhall2[:500], \"EN\":trall2[:500]})"
   ]
  }
 ],
 "metadata": {
  "kernelspec": {
   "display_name": "Python 3",
   "language": "python",
   "name": "python3"
  },
  "language_info": {
   "codemirror_mode": {
    "name": "ipython",
    "version": 3
   },
   "file_extension": ".py",
   "mimetype": "text/x-python",
   "name": "python",
   "nbconvert_exporter": "python",
   "pygments_lexer": "ipython3",
   "version": "3.7.3"
  }
 },
 "nbformat": 4,
 "nbformat_minor": 4
}
