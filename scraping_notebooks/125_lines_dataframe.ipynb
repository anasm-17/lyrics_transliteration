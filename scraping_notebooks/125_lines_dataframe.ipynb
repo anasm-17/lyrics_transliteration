{
 "cells": [
  {
   "cell_type": "code",
   "execution_count": 1,
   "metadata": {},
   "outputs": [],
   "source": [
    "from bs4 import BeautifulSoup\n",
    "import requests\n",
    "import pandas as pd"
   ]
  },
  {
   "cell_type": "code",
   "execution_count": 2,
   "metadata": {},
   "outputs": [],
   "source": [
    "url2 = 'https://lyricstranslate.com/en/collection/chinese-songs-transliteration-easy-learning'\n",
    "html_content2 = requests.get(url2).text\n",
    "soup2 = BeautifulSoup(html_content2)"
   ]
  },
  {
   "cell_type": "code",
   "execution_count": 3,
   "metadata": {},
   "outputs": [],
   "source": [
    "links_list = []\n",
    "for i in soup2.find_all(\"span\", class_=\"collection-title\"):\n",
    "    for c in i.children:\n",
    "        links_list.append(c['href'])"
   ]
  },
  {
   "cell_type": "code",
   "execution_count": 9,
   "metadata": {},
   "outputs": [],
   "source": [
    "zh = []\n",
    "tran = []\n",
    "for link in links_list:\n",
    "    html_content = requests.get(\"https://lyricstranslate.com\" + link).text\n",
    "    soup = BeautifulSoup(html_content)\n",
    "    zh_tran = []\n",
    "    for i in soup.find_all(class_=\"ltf\"):\n",
    "        zh_tran.append(i.get_text())\n",
    "    if len(zh_tran) == 2:\n",
    "        zh.extend(zh_tran[0].split(\"\\n\"))\n",
    "        tran.extend(zh_tran[1].split(\"\\n\"))"
   ]
  },
  {
   "cell_type": "code",
   "execution_count": 19,
   "metadata": {},
   "outputs": [
    {
     "data": {
      "text/plain": [
       "1742"
      ]
     },
     "execution_count": 19,
     "metadata": {},
     "output_type": "execute_result"
    }
   ],
   "source": [
    "len(zh)"
   ]
  },
  {
   "cell_type": "code",
   "execution_count": 16,
   "metadata": {},
   "outputs": [],
   "source": [
    "tran = tran[:1742]"
   ]
  },
  {
   "cell_type": "code",
   "execution_count": 20,
   "metadata": {},
   "outputs": [
    {
     "data": {
      "text/html": [
       "<div>\n",
       "<style scoped>\n",
       "    .dataframe tbody tr th:only-of-type {\n",
       "        vertical-align: middle;\n",
       "    }\n",
       "\n",
       "    .dataframe tbody tr th {\n",
       "        vertical-align: top;\n",
       "    }\n",
       "\n",
       "    .dataframe thead th {\n",
       "        text-align: right;\n",
       "    }\n",
       "</style>\n",
       "<table border=\"1\" class=\"dataframe\">\n",
       "  <thead>\n",
       "    <tr style=\"text-align: right;\">\n",
       "      <th></th>\n",
       "      <th>ZH</th>\n",
       "      <th>EN</th>\n",
       "    </tr>\n",
       "  </thead>\n",
       "  <tbody>\n",
       "    <tr>\n",
       "      <td>0</td>\n",
       "      <td>你曾經對我說過</td>\n",
       "      <td>nǐ céngjīng duì wǒ shuōguò</td>\n",
       "    </tr>\n",
       "    <tr>\n",
       "      <td>1</td>\n",
       "      <td>永遠的愛我</td>\n",
       "      <td>yǒngyuǎn de ài wǒ</td>\n",
       "    </tr>\n",
       "    <tr>\n",
       "      <td>2</td>\n",
       "      <td>誰知道你的話兒</td>\n",
       "      <td>shuí zhīdào nǐ dehuà er</td>\n",
       "    </tr>\n",
       "    <tr>\n",
       "      <td>3</td>\n",
       "      <td>都是在騙我</td>\n",
       "      <td>dōu shì zài piàn wǒ</td>\n",
       "    </tr>\n",
       "    <tr>\n",
       "      <td>4</td>\n",
       "      <td>你狠心拋棄我</td>\n",
       "      <td>nǐ hěnxīn pāoqì wǒ</td>\n",
       "    </tr>\n",
       "    <tr>\n",
       "      <td>...</td>\n",
       "      <td>...</td>\n",
       "      <td>...</td>\n",
       "    </tr>\n",
       "    <tr>\n",
       "      <td>995</td>\n",
       "      <td>就像你一直為我 守候 親愛的人 親密的愛人</td>\n",
       "      <td>fāng cǎo bì liántiān</td>\n",
       "    </tr>\n",
       "    <tr>\n",
       "      <td>996</td>\n",
       "      <td>謝謝你這麼長的時間 陪著我</td>\n",
       "      <td>wǎn fēng bì liǔ dí shēng cán</td>\n",
       "    </tr>\n",
       "    <tr>\n",
       "      <td>997</td>\n",
       "      <td>親愛的人 親密的愛人</td>\n",
       "      <td>xīyáng shān wài shān</td>\n",
       "    </tr>\n",
       "    <tr>\n",
       "      <td>998</td>\n",
       "      <td>這是我一生中 最興奮的時分</td>\n",
       "      <td>tiān zhī yá di zhī jiǎo</td>\n",
       "    </tr>\n",
       "    <tr>\n",
       "      <td>999</td>\n",
       "      <td>這是我一生中 最興奮的時分</td>\n",
       "      <td>zhījiāo bàn língluò</td>\n",
       "    </tr>\n",
       "  </tbody>\n",
       "</table>\n",
       "<p>1000 rows × 2 columns</p>\n",
       "</div>"
      ],
      "text/plain": [
       "                        ZH                            EN\n",
       "0                  你曾經對我說過    nǐ céngjīng duì wǒ shuōguò\n",
       "1                    永遠的愛我             yǒngyuǎn de ài wǒ\n",
       "2                  誰知道你的話兒       shuí zhīdào nǐ dehuà er\n",
       "3                    都是在騙我           dōu shì zài piàn wǒ\n",
       "4                   你狠心拋棄我            nǐ hěnxīn pāoqì wǒ\n",
       "..                     ...                           ...\n",
       "995  就像你一直為我 守候 親愛的人 親密的愛人          fāng cǎo bì liántiān\n",
       "996          謝謝你這麼長的時間 陪著我  wǎn fēng bì liǔ dí shēng cán\n",
       "997             親愛的人 親密的愛人          xīyáng shān wài shān\n",
       "998          這是我一生中 最興奮的時分       tiān zhī yá di zhī jiǎo\n",
       "999         這是我一生中 最興奮的時分            zhījiāo bàn língluò\n",
       "\n",
       "[1000 rows x 2 columns]"
      ]
     },
     "execution_count": 20,
     "metadata": {},
     "output_type": "execute_result"
    }
   ],
   "source": [
    "pd.DataFrame({\"ZH\":zh[:1000], \"EN\": tran[:1000]})#[:130]"
   ]
  },
  {
   "cell_type": "code",
   "execution_count": null,
   "metadata": {},
   "outputs": [],
   "source": []
  }
 ],
 "metadata": {
  "kernelspec": {
   "display_name": "Python 3",
   "language": "python",
   "name": "python3"
  },
  "language_info": {
   "codemirror_mode": {
    "name": "ipython",
    "version": 3
   },
   "file_extension": ".py",
   "mimetype": "text/x-python",
   "name": "python",
   "nbconvert_exporter": "python",
   "pygments_lexer": "ipython3",
   "version": "3.7.4"
  }
 },
 "nbformat": 4,
 "nbformat_minor": 4
}
