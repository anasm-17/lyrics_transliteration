{
 "cells": [
  {
   "cell_type": "markdown",
   "metadata": {},
   "source": [
    "We can use this function on each song. And for the transliteration of each song, we split the connected pinyins into individual ones, then for each Chinese line(Chinese characters not pinyins), we can count its length and append the corresponding number of pinyin to each cell of transliteration, which fixes the mismatching problem and can better hone the accuracy of our model."
   ]
  },
  {
   "cell_type": "code",
   "execution_count": 210,
   "metadata": {},
   "outputs": [],
   "source": [
    "# First we have to define the dictionary of all the Chinese pinyin, will do this later \n",
    "# The number of total pinyins in Mandarin is 407\n",
    "dictionary = {\"jin\", \"tian\", \"wo\", \"zai\", \"mai\", \"dang\", \"lao\"}"
   ]
  },
  {
   "cell_type": "code",
   "execution_count": 211,
   "metadata": {},
   "outputs": [],
   "source": [
    "def split(string, dictionary):\n",
    "    '''\n",
    "    This function splits individual connected pinyin into splitted ones.\n",
    "    '''\n",
    "    pinyin = \"\"\n",
    "    pinyins = []\n",
    "    remainder = \"\"\n",
    "    remainder2 = \"\"\n",
    "    for i in range(len(string)):\n",
    "        pinyin += string[i]\n",
    "        if pinyin in dictionary:\n",
    "            pinyins.append(pinyin)\n",
    "            remainder = string[len(pinyin):]\n",
    "    pinyin = \"\"\n",
    "    if len(remainder) > 1:\n",
    "        for i in range(len(remainder)):\n",
    "            pinyin += remainder[i]\n",
    "            if pinyin in dictionary:\n",
    "                pinyins.append(pinyin)\n",
    "                remainder2 = remainder[len(pinyin):]\n",
    "    if len(remainder2)>1:\n",
    "        pinyins.append(remainder2)\n",
    "            \n",
    "            \n",
    "    return pinyins"
   ]
  },
  {
   "cell_type": "code",
   "execution_count": 219,
   "metadata": {},
   "outputs": [
    {
     "data": {
      "text/plain": [
       "['jin', 'tian', 'wo']"
      ]
     },
     "execution_count": 219,
     "metadata": {},
     "output_type": "execute_result"
    }
   ],
   "source": [
    "# One example of using this function\n",
    "string = \"jintianwo\"\n",
    "split(string, dictionary)"
   ]
  },
  {
   "cell_type": "code",
   "execution_count": 218,
   "metadata": {},
   "outputs": [
    {
     "data": {
      "text/plain": [
       "['wo', 'zai', 'mai']"
      ]
     },
     "execution_count": 218,
     "metadata": {},
     "output_type": "execute_result"
    }
   ],
   "source": [
    "split(\"wozaimai\", dictionary)"
   ]
  },
  {
   "cell_type": "code",
   "execution_count": 212,
   "metadata": {},
   "outputs": [],
   "source": [
    "def MaxMatch(connected_pinyin, dictionary):\n",
    "    '''\n",
    "    This function splits the whole sentence with connected pinyin into individual ones and returns a list.\n",
    "    '''\n",
    "    result = []\n",
    "    for i in range(len(before)):\n",
    "        if before[i] in dictionary:\n",
    "            result.append(before[i])\n",
    "        if before[i] not in dictionary:\n",
    "            result.extend(split(before[i], dictionary))\n",
    "    return result"
   ]
  },
  {
   "cell_type": "code",
   "execution_count": 207,
   "metadata": {},
   "outputs": [],
   "source": [
    "connected_pinyin = \"jintian wo zai maidanglao\""
   ]
  },
  {
   "cell_type": "code",
   "execution_count": 208,
   "metadata": {},
   "outputs": [],
   "source": [
    "connected_pinyin = connected_pinyin.split()"
   ]
  },
  {
   "cell_type": "code",
   "execution_count": 209,
   "metadata": {},
   "outputs": [
    {
     "data": {
      "text/plain": [
       "['jintian', 'wo', 'zai', 'maidanglao']"
      ]
     },
     "execution_count": 209,
     "metadata": {},
     "output_type": "execute_result"
    }
   ],
   "source": [
    "connected_pinyin"
   ]
  },
  {
   "cell_type": "code",
   "execution_count": 213,
   "metadata": {},
   "outputs": [
    {
     "data": {
      "text/plain": [
       "['wo', 'jin', 'tian', 'zai', 'mai', 'jin', 'lao']"
      ]
     },
     "execution_count": 213,
     "metadata": {},
     "output_type": "execute_result"
    }
   ],
   "source": [
    "# An example of using the function\n",
    "MaxMatch(connected_pinyin, dictionary)"
   ]
  },
  {
   "cell_type": "code",
   "execution_count": 214,
   "metadata": {},
   "outputs": [],
   "source": [
    "before = \"wojintian zaimai jinlao\""
   ]
  },
  {
   "cell_type": "code",
   "execution_count": 215,
   "metadata": {},
   "outputs": [],
   "source": [
    "before = before.split()"
   ]
  },
  {
   "cell_type": "code",
   "execution_count": 216,
   "metadata": {},
   "outputs": [
    {
     "data": {
      "text/plain": [
       "['wo', 'jin', 'tian', 'zai', 'mai', 'jin', 'lao']"
      ]
     },
     "execution_count": 216,
     "metadata": {},
     "output_type": "execute_result"
    }
   ],
   "source": [
    "MaxMatch(before, dictionary)"
   ]
  },
  {
   "cell_type": "code",
   "execution_count": null,
   "metadata": {},
   "outputs": [],
   "source": []
  }
 ],
 "metadata": {
  "kernelspec": {
   "display_name": "Python 3",
   "language": "python",
   "name": "python3"
  },
  "language_info": {
   "codemirror_mode": {
    "name": "ipython",
    "version": 3
   },
   "file_extension": ".py",
   "mimetype": "text/x-python",
   "name": "python",
   "nbconvert_exporter": "python",
   "pygments_lexer": "ipython3",
   "version": "3.7.4"
  }
 },
 "nbformat": 4,
 "nbformat_minor": 4
}
